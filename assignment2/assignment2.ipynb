{
 "cells": [
  {
   "cell_type": "markdown",
   "metadata": {
    "toc": "true"
   },
   "source": [
    "# Table of Contents\n",
    " <p><div class=\"lev1 toc-item\"><a href=\"#Set-up\" data-toc-modified-id=\"Set-up-1\"><span class=\"toc-item-num\">1&nbsp;&nbsp;</span>Set-up</a></div><div class=\"lev1 toc-item\"><a href=\"#Regarding-data_txt\" data-toc-modified-id=\"Regarding-data_txt-2\"><span class=\"toc-item-num\">2&nbsp;&nbsp;</span>Regarding data_txt</a></div><div class=\"lev1 toc-item\"><a href=\"#Mean-of-data_txt\" data-toc-modified-id=\"Mean-of-data_txt-3\"><span class=\"toc-item-num\">3&nbsp;&nbsp;</span>Mean of data_txt</a></div><div class=\"lev1 toc-item\"><a href=\"#Plotting-mean-expression-levels\" data-toc-modified-id=\"Plotting-mean-expression-levels-4\"><span class=\"toc-item-num\">4&nbsp;&nbsp;</span>Plotting mean expression levels</a></div><div class=\"lev1 toc-item\"><a href=\"#Plotting-normal-distributions\" data-toc-modified-id=\"Plotting-normal-distributions-5\"><span class=\"toc-item-num\">5&nbsp;&nbsp;</span>Plotting normal distributions</a></div><div class=\"lev1 toc-item\"><a href=\"#Write-df-to-file\" data-toc-modified-id=\"Write-df-to-file-6\"><span class=\"toc-item-num\">6&nbsp;&nbsp;</span>Write df to file</a></div><div class=\"lev1 toc-item\"><a href=\"#CoefVar-function-and-plots\" data-toc-modified-id=\"CoefVar-function-and-plots-7\"><span class=\"toc-item-num\">7&nbsp;&nbsp;</span>CoefVar function and plots</a></div><div class=\"lev1 toc-item\"><a href=\"#Reproduction-of-Clay's-Plots\" data-toc-modified-id=\"Reproduction-of-Clay's-Plots-8\"><span class=\"toc-item-num\">8&nbsp;&nbsp;</span>Reproduction of Clay's Plots</a></div>"
   ]
  },
  {
   "cell_type": "markdown",
   "metadata": {},
   "source": [
    "###### Preamble"
   ]
  },
  {
   "cell_type": "code",
   "execution_count": 50,
   "metadata": {
    "collapsed": true
   },
   "outputs": [],
   "source": [
    "library(repr)"
   ]
  },
  {
   "cell_type": "markdown",
   "metadata": {},
   "source": [
    "# Set-up"
   ]
  },
  {
   "cell_type": "markdown",
   "metadata": {},
   "source": [
    "** Read in files **"
   ]
  },
  {
   "cell_type": "code",
   "execution_count": 51,
   "metadata": {
    "collapsed": true
   },
   "outputs": [],
   "source": [
    "data_csv = read.table(\"GacuRNAseq_Subset.csv\", row.names = 1, header = T, sep = \",\")"
   ]
  },
  {
   "cell_type": "code",
   "execution_count": 52,
   "metadata": {
    "collapsed": true
   },
   "outputs": [],
   "source": [
    "data_txt = read.table(\"GacuRNAseq_Subset.txt\", row.names = 1, header = T, sep = \"\\t\")"
   ]
  },
  {
   "cell_type": "code",
   "execution_count": 53,
   "metadata": {},
   "outputs": [
    {
     "data": {
      "text/html": [
       "<table>\n",
       "<thead><tr><th></th><th scope=col>Population</th><th scope=col>Treatment</th><th scope=col>Sex</th><th scope=col>ENSGACG00000000003</th><th scope=col>ENSGACG00000000004</th><th scope=col>ENSGACG00000000006</th><th scope=col>ENSGACG00000000007</th><th scope=col>ENSGACG00000000008</th><th scope=col>ENSGACG00000000009</th><th scope=col>ENSGACG00000000010</th><th scope=col>⋯</th><th scope=col>ENSGACG00000000235</th><th scope=col>ENSGACG00000000236</th><th scope=col>ENSGACG00000000239</th><th scope=col>ENSGACG00000000242</th><th scope=col>ENSGACG00000000245</th><th scope=col>ENSGACG00000000246</th><th scope=col>ENSGACG00000000247</th><th scope=col>ENSGACG00000000248</th><th scope=col>ENSGACG00000000249</th><th scope=col>ENSGACG00000000250</th></tr></thead>\n",
       "<tbody>\n",
       "\t<tr><th scope=row>BtCV1</th><td>Boot        </td><td>Conventional</td><td>male        </td><td> 5.800022   </td><td> 7.733363   </td><td> 41.56683   </td><td>124.70048   </td><td>2.900011    </td><td>356.7014    </td><td>203.0008    </td><td>⋯           </td><td>417.6016    </td><td>16.433397   </td><td>16.43340    </td><td>434.0350    </td><td>1.933341    </td><td>21.26675    </td><td>15.46673    </td><td>65.73359    </td><td>42.53350    </td><td>230.0676    </td></tr>\n",
       "\t<tr><th scope=row>BtCV2</th><td>Boot        </td><td>Conventional</td><td>male        </td><td>21.331358   </td><td> 9.599111   </td><td> 62.92751   </td><td> 97.05768   </td><td>6.399407    </td><td>348.7677    </td><td>297.5724    </td><td>⋯           </td><td>358.3668    </td><td>18.131654   </td><td>42.66272    </td><td>425.5606    </td><td>9.599111    </td><td>41.59615    </td><td>26.66420    </td><td>66.12721    </td><td>54.39496    </td><td>274.1080    </td></tr>\n",
       "\t<tr><th scope=row>BtCV3</th><td>Boot        </td><td>Conventional</td><td>female      </td><td>13.732143   </td><td> 5.281593   </td><td> 70.77335   </td><td> 82.39286   </td><td>7.394231    </td><td>361.2610    </td><td>296.8256    </td><td>⋯           </td><td>381.3311    </td><td>26.407968   </td><td>22.18269    </td><td>414.0769    </td><td>4.225275    </td><td>26.40797    </td><td>24.29533    </td><td>47.53434    </td><td>49.64698    </td><td>249.2912    </td></tr>\n",
       "\t<tr><th scope=row>BtCV4</th><td>Boot        </td><td>Conventional</td><td>female      </td><td>15.255118   </td><td> 5.867353   </td><td>118.52053   </td><td> 69.23477   </td><td>5.867353    </td><td>448.2658    </td><td>213.5716    </td><td>⋯           </td><td>382.5514    </td><td>17.602059   </td><td>38.72453    </td><td>454.1331    </td><td>5.867353    </td><td>48.11229    </td><td>39.89800    </td><td>57.50006    </td><td>51.63271    </td><td>396.6331    </td></tr>\n",
       "\t<tr><th scope=row>BtCV5</th><td>Boot        </td><td>Conventional</td><td>male        </td><td> 4.348010   </td><td> 5.435013   </td><td> 66.30716   </td><td> 82.61220   </td><td>5.435013    </td><td>470.6721    </td><td>227.1835    </td><td>⋯           </td><td>417.4090    </td><td>17.392042   </td><td>42.39310    </td><td>421.7570    </td><td>4.348010    </td><td>40.21910    </td><td>13.04403    </td><td>52.17612    </td><td>34.78408    </td><td>361.9719    </td></tr>\n",
       "\t<tr><th scope=row>BTMA1</th><td>Boot        </td><td>MonoAssoc   </td><td>male        </td><td> 9.622744   </td><td>19.245488   </td><td> 92.37834   </td><td>160.69982   </td><td>3.849098    </td><td>257.8895    </td><td>367.5888    </td><td>⋯           </td><td>218.4363    </td><td> 6.735921   </td><td>76.98195    </td><td>519.6282    </td><td>9.622744    </td><td>51.00054    </td><td>25.01913    </td><td>54.84964    </td><td>34.64188    </td><td>217.4740    </td></tr>\n",
       "</tbody>\n",
       "</table>\n"
      ],
      "text/latex": [
       "\\begin{tabular}{r|lllllllllllllllllllllllllllllllllllllllllllllllllllllllllllllllllllllllllllllllllllllllllllllllllllllllllllllllllllllllllllllllllllllllllllllllllllllllllllllllllllllllllllllllllllllllll}\n",
       "  & Population & Treatment & Sex & ENSGACG00000000003 & ENSGACG00000000004 & ENSGACG00000000006 & ENSGACG00000000007 & ENSGACG00000000008 & ENSGACG00000000009 & ENSGACG00000000010 & ⋯ & ENSGACG00000000235 & ENSGACG00000000236 & ENSGACG00000000239 & ENSGACG00000000242 & ENSGACG00000000245 & ENSGACG00000000246 & ENSGACG00000000247 & ENSGACG00000000248 & ENSGACG00000000249 & ENSGACG00000000250\\\\\n",
       "\\hline\n",
       "\tBtCV1 & Boot         & Conventional & male         &  5.800022    &  7.733363    &  41.56683    & 124.70048    & 2.900011     & 356.7014     & 203.0008     & ⋯            & 417.6016     & 16.433397    & 16.43340     & 434.0350     & 1.933341     & 21.26675     & 15.46673     & 65.73359     & 42.53350     & 230.0676    \\\\\n",
       "\tBtCV2 & Boot         & Conventional & male         & 21.331358    &  9.599111    &  62.92751    &  97.05768    & 6.399407     & 348.7677     & 297.5724     & ⋯            & 358.3668     & 18.131654    & 42.66272     & 425.5606     & 9.599111     & 41.59615     & 26.66420     & 66.12721     & 54.39496     & 274.1080    \\\\\n",
       "\tBtCV3 & Boot         & Conventional & female       & 13.732143    &  5.281593    &  70.77335    &  82.39286    & 7.394231     & 361.2610     & 296.8256     & ⋯            & 381.3311     & 26.407968    & 22.18269     & 414.0769     & 4.225275     & 26.40797     & 24.29533     & 47.53434     & 49.64698     & 249.2912    \\\\\n",
       "\tBtCV4 & Boot         & Conventional & female       & 15.255118    &  5.867353    & 118.52053    &  69.23477    & 5.867353     & 448.2658     & 213.5716     & ⋯            & 382.5514     & 17.602059    & 38.72453     & 454.1331     & 5.867353     & 48.11229     & 39.89800     & 57.50006     & 51.63271     & 396.6331    \\\\\n",
       "\tBtCV5 & Boot         & Conventional & male         &  4.348010    &  5.435013    &  66.30716    &  82.61220    & 5.435013     & 470.6721     & 227.1835     & ⋯            & 417.4090     & 17.392042    & 42.39310     & 421.7570     & 4.348010     & 40.21910     & 13.04403     & 52.17612     & 34.78408     & 361.9719    \\\\\n",
       "\tBTMA1 & Boot         & MonoAssoc    & male         &  9.622744    & 19.245488    &  92.37834    & 160.69982    & 3.849098     & 257.8895     & 367.5888     & ⋯            & 218.4363     &  6.735921    & 76.98195     & 519.6282     & 9.622744     & 51.00054     & 25.01913     & 54.84964     & 34.64188     & 217.4740    \\\\\n",
       "\\end{tabular}\n"
      ],
      "text/markdown": [
       "\n",
       "| <!--/--> | Population | Treatment | Sex | ENSGACG00000000003 | ENSGACG00000000004 | ENSGACG00000000006 | ENSGACG00000000007 | ENSGACG00000000008 | ENSGACG00000000009 | ENSGACG00000000010 | ⋯ | ENSGACG00000000235 | ENSGACG00000000236 | ENSGACG00000000239 | ENSGACG00000000242 | ENSGACG00000000245 | ENSGACG00000000246 | ENSGACG00000000247 | ENSGACG00000000248 | ENSGACG00000000249 | ENSGACG00000000250 | \n",
       "|---|---|---|---|---|---|\n",
       "| BtCV1 | Boot         | Conventional | male         |  5.800022    |  7.733363    |  41.56683    | 124.70048    | 2.900011     | 356.7014     | 203.0008     | ⋯            | 417.6016     | 16.433397    | 16.43340     | 434.0350     | 1.933341     | 21.26675     | 15.46673     | 65.73359     | 42.53350     | 230.0676     | \n",
       "| BtCV2 | Boot         | Conventional | male         | 21.331358    |  9.599111    |  62.92751    |  97.05768    | 6.399407     | 348.7677     | 297.5724     | ⋯            | 358.3668     | 18.131654    | 42.66272     | 425.5606     | 9.599111     | 41.59615     | 26.66420     | 66.12721     | 54.39496     | 274.1080     | \n",
       "| BtCV3 | Boot         | Conventional | female       | 13.732143    |  5.281593    |  70.77335    |  82.39286    | 7.394231     | 361.2610     | 296.8256     | ⋯            | 381.3311     | 26.407968    | 22.18269     | 414.0769     | 4.225275     | 26.40797     | 24.29533     | 47.53434     | 49.64698     | 249.2912     | \n",
       "| BtCV4 | Boot         | Conventional | female       | 15.255118    |  5.867353    | 118.52053    |  69.23477    | 5.867353     | 448.2658     | 213.5716     | ⋯            | 382.5514     | 17.602059    | 38.72453     | 454.1331     | 5.867353     | 48.11229     | 39.89800     | 57.50006     | 51.63271     | 396.6331     | \n",
       "| BtCV5 | Boot         | Conventional | male         |  4.348010    |  5.435013    |  66.30716    |  82.61220    | 5.435013     | 470.6721     | 227.1835     | ⋯            | 417.4090     | 17.392042    | 42.39310     | 421.7570     | 4.348010     | 40.21910     | 13.04403     | 52.17612     | 34.78408     | 361.9719     | \n",
       "| BTMA1 | Boot         | MonoAssoc    | male         |  9.622744    | 19.245488    |  92.37834    | 160.69982    | 3.849098     | 257.8895     | 367.5888     | ⋯            | 218.4363     |  6.735921    | 76.98195     | 519.6282     | 9.622744     | 51.00054     | 25.01913     | 54.84964     | 34.64188     | 217.4740     | \n",
       "\n",
       "\n"
      ],
      "text/plain": [
       "      Population Treatment    Sex    ENSGACG00000000003 ENSGACG00000000004\n",
       "BtCV1 Boot       Conventional male    5.800022           7.733363         \n",
       "BtCV2 Boot       Conventional male   21.331358           9.599111         \n",
       "BtCV3 Boot       Conventional female 13.732143           5.281593         \n",
       "BtCV4 Boot       Conventional female 15.255118           5.867353         \n",
       "BtCV5 Boot       Conventional male    4.348010           5.435013         \n",
       "BTMA1 Boot       MonoAssoc    male    9.622744          19.245488         \n",
       "      ENSGACG00000000006 ENSGACG00000000007 ENSGACG00000000008\n",
       "BtCV1  41.56683          124.70048          2.900011          \n",
       "BtCV2  62.92751           97.05768          6.399407          \n",
       "BtCV3  70.77335           82.39286          7.394231          \n",
       "BtCV4 118.52053           69.23477          5.867353          \n",
       "BtCV5  66.30716           82.61220          5.435013          \n",
       "BTMA1  92.37834          160.69982          3.849098          \n",
       "      ENSGACG00000000009 ENSGACG00000000010 ⋯ ENSGACG00000000235\n",
       "BtCV1 356.7014           203.0008           ⋯ 417.6016          \n",
       "BtCV2 348.7677           297.5724           ⋯ 358.3668          \n",
       "BtCV3 361.2610           296.8256           ⋯ 381.3311          \n",
       "BtCV4 448.2658           213.5716           ⋯ 382.5514          \n",
       "BtCV5 470.6721           227.1835           ⋯ 417.4090          \n",
       "BTMA1 257.8895           367.5888           ⋯ 218.4363          \n",
       "      ENSGACG00000000236 ENSGACG00000000239 ENSGACG00000000242\n",
       "BtCV1 16.433397          16.43340           434.0350          \n",
       "BtCV2 18.131654          42.66272           425.5606          \n",
       "BtCV3 26.407968          22.18269           414.0769          \n",
       "BtCV4 17.602059          38.72453           454.1331          \n",
       "BtCV5 17.392042          42.39310           421.7570          \n",
       "BTMA1  6.735921          76.98195           519.6282          \n",
       "      ENSGACG00000000245 ENSGACG00000000246 ENSGACG00000000247\n",
       "BtCV1 1.933341           21.26675           15.46673          \n",
       "BtCV2 9.599111           41.59615           26.66420          \n",
       "BtCV3 4.225275           26.40797           24.29533          \n",
       "BtCV4 5.867353           48.11229           39.89800          \n",
       "BtCV5 4.348010           40.21910           13.04403          \n",
       "BTMA1 9.622744           51.00054           25.01913          \n",
       "      ENSGACG00000000248 ENSGACG00000000249 ENSGACG00000000250\n",
       "BtCV1 65.73359           42.53350           230.0676          \n",
       "BtCV2 66.12721           54.39496           274.1080          \n",
       "BtCV3 47.53434           49.64698           249.2912          \n",
       "BtCV4 57.50006           51.63271           396.6331          \n",
       "BtCV5 52.17612           34.78408           361.9719          \n",
       "BTMA1 54.84964           34.64188           217.4740          "
      ]
     },
     "metadata": {},
     "output_type": "display_data"
    },
    {
     "data": {
      "text/html": [
       "<ol class=list-inline>\n",
       "\t<li>20</li>\n",
       "\t<li>185</li>\n",
       "</ol>\n"
      ],
      "text/latex": [
       "\\begin{enumerate*}\n",
       "\\item 20\n",
       "\\item 185\n",
       "\\end{enumerate*}\n"
      ],
      "text/markdown": [
       "1. 20\n",
       "2. 185\n",
       "\n",
       "\n"
      ],
      "text/plain": [
       "[1]  20 185"
      ]
     },
     "metadata": {},
     "output_type": "display_data"
    }
   ],
   "source": [
    "head(data_csv)\n",
    "dim(data_csv)"
   ]
  },
  {
   "cell_type": "code",
   "execution_count": 115,
   "metadata": {},
   "outputs": [
    {
     "data": {
      "text/html": [
       "<table>\n",
       "<thead><tr><th></th><th scope=col>Population</th><th scope=col>Treatment</th><th scope=col>Sex</th><th scope=col>ENSGACG00000000003</th><th scope=col>ENSGACG00000000004</th><th scope=col>ENSGACG00000000006</th><th scope=col>ENSGACG00000000007</th><th scope=col>ENSGACG00000000008</th><th scope=col>ENSGACG00000000009</th><th scope=col>ENSGACG00000000010</th><th scope=col>⋯</th><th scope=col>ENSGACG00000000235</th><th scope=col>ENSGACG00000000236</th><th scope=col>ENSGACG00000000239</th><th scope=col>ENSGACG00000000242</th><th scope=col>ENSGACG00000000245</th><th scope=col>ENSGACG00000000246</th><th scope=col>ENSGACG00000000247</th><th scope=col>ENSGACG00000000248</th><th scope=col>ENSGACG00000000249</th><th scope=col>ENSGACG00000000250</th></tr></thead>\n",
       "<tbody>\n",
       "\t<tr><th scope=row>BtCV1</th><td>Boot        </td><td>Conventional</td><td>male        </td><td> 5.800022   </td><td> 7.733363   </td><td> 41.56683   </td><td>124.70048   </td><td>2.900011    </td><td>356.7014    </td><td>203.0008    </td><td>⋯           </td><td>417.6016    </td><td>16.433397   </td><td>16.43340    </td><td>434.0350    </td><td>1.933341    </td><td>21.26675    </td><td>15.46673    </td><td>65.73359    </td><td>42.53350    </td><td>230.0676    </td></tr>\n",
       "\t<tr><th scope=row>BtCV2</th><td>Boot        </td><td>Conventional</td><td>male        </td><td>21.331358   </td><td> 9.599111   </td><td> 62.92751   </td><td> 97.05768   </td><td>6.399407    </td><td>348.7677    </td><td>297.5724    </td><td>⋯           </td><td>358.3668    </td><td>18.131654   </td><td>42.66272    </td><td>425.5606    </td><td>9.599111    </td><td>41.59615    </td><td>26.66420    </td><td>66.12721    </td><td>54.39496    </td><td>274.1080    </td></tr>\n",
       "\t<tr><th scope=row>BtCV3</th><td>Boot        </td><td>Conventional</td><td>female      </td><td>13.732143   </td><td> 5.281593   </td><td> 70.77335   </td><td> 82.39286   </td><td>7.394231    </td><td>361.2610    </td><td>296.8256    </td><td>⋯           </td><td>381.3311    </td><td>26.407968   </td><td>22.18269    </td><td>414.0769    </td><td>4.225275    </td><td>26.40797    </td><td>24.29533    </td><td>47.53434    </td><td>49.64698    </td><td>249.2912    </td></tr>\n",
       "\t<tr><th scope=row>BtCV4</th><td>Boot        </td><td>Conventional</td><td>female      </td><td>15.255118   </td><td> 5.867353   </td><td>118.52053   </td><td> 69.23477   </td><td>5.867353    </td><td>448.2658    </td><td>213.5716    </td><td>⋯           </td><td>382.5514    </td><td>17.602059   </td><td>38.72453    </td><td>454.1331    </td><td>5.867353    </td><td>48.11229    </td><td>39.89800    </td><td>57.50006    </td><td>51.63271    </td><td>396.6331    </td></tr>\n",
       "\t<tr><th scope=row>BtCV5</th><td>Boot        </td><td>Conventional</td><td>male        </td><td> 4.348010   </td><td> 5.435013   </td><td> 66.30716   </td><td> 82.61220   </td><td>5.435013    </td><td>470.6721    </td><td>227.1835    </td><td>⋯           </td><td>417.4090    </td><td>17.392042   </td><td>42.39310    </td><td>421.7570    </td><td>4.348010    </td><td>40.21910    </td><td>13.04403    </td><td>52.17612    </td><td>34.78408    </td><td>361.9719    </td></tr>\n",
       "\t<tr><th scope=row>BTMA1</th><td>Boot        </td><td>MonoAssoc   </td><td>male        </td><td> 9.622744   </td><td>19.245488   </td><td> 92.37834   </td><td>160.69982   </td><td>3.849098    </td><td>257.8895    </td><td>367.5888    </td><td>⋯           </td><td>218.4363    </td><td> 6.735921   </td><td>76.98195    </td><td>519.6282    </td><td>9.622744    </td><td>51.00054    </td><td>25.01913    </td><td>54.84964    </td><td>34.64188    </td><td>217.4740    </td></tr>\n",
       "</tbody>\n",
       "</table>\n"
      ],
      "text/latex": [
       "\\begin{tabular}{r|lllllllllllllllllllllllllllllllllllllllllllllllllllllllllllllllllllllllllllllllllllllllllllllllllllllllllllllllllllllllllllllllllllllllllllllllllllllllllllllllllllllllllllllllllllllllll}\n",
       "  & Population & Treatment & Sex & ENSGACG00000000003 & ENSGACG00000000004 & ENSGACG00000000006 & ENSGACG00000000007 & ENSGACG00000000008 & ENSGACG00000000009 & ENSGACG00000000010 & ⋯ & ENSGACG00000000235 & ENSGACG00000000236 & ENSGACG00000000239 & ENSGACG00000000242 & ENSGACG00000000245 & ENSGACG00000000246 & ENSGACG00000000247 & ENSGACG00000000248 & ENSGACG00000000249 & ENSGACG00000000250\\\\\n",
       "\\hline\n",
       "\tBtCV1 & Boot         & Conventional & male         &  5.800022    &  7.733363    &  41.56683    & 124.70048    & 2.900011     & 356.7014     & 203.0008     & ⋯            & 417.6016     & 16.433397    & 16.43340     & 434.0350     & 1.933341     & 21.26675     & 15.46673     & 65.73359     & 42.53350     & 230.0676    \\\\\n",
       "\tBtCV2 & Boot         & Conventional & male         & 21.331358    &  9.599111    &  62.92751    &  97.05768    & 6.399407     & 348.7677     & 297.5724     & ⋯            & 358.3668     & 18.131654    & 42.66272     & 425.5606     & 9.599111     & 41.59615     & 26.66420     & 66.12721     & 54.39496     & 274.1080    \\\\\n",
       "\tBtCV3 & Boot         & Conventional & female       & 13.732143    &  5.281593    &  70.77335    &  82.39286    & 7.394231     & 361.2610     & 296.8256     & ⋯            & 381.3311     & 26.407968    & 22.18269     & 414.0769     & 4.225275     & 26.40797     & 24.29533     & 47.53434     & 49.64698     & 249.2912    \\\\\n",
       "\tBtCV4 & Boot         & Conventional & female       & 15.255118    &  5.867353    & 118.52053    &  69.23477    & 5.867353     & 448.2658     & 213.5716     & ⋯            & 382.5514     & 17.602059    & 38.72453     & 454.1331     & 5.867353     & 48.11229     & 39.89800     & 57.50006     & 51.63271     & 396.6331    \\\\\n",
       "\tBtCV5 & Boot         & Conventional & male         &  4.348010    &  5.435013    &  66.30716    &  82.61220    & 5.435013     & 470.6721     & 227.1835     & ⋯            & 417.4090     & 17.392042    & 42.39310     & 421.7570     & 4.348010     & 40.21910     & 13.04403     & 52.17612     & 34.78408     & 361.9719    \\\\\n",
       "\tBTMA1 & Boot         & MonoAssoc    & male         &  9.622744    & 19.245488    &  92.37834    & 160.69982    & 3.849098     & 257.8895     & 367.5888     & ⋯            & 218.4363     &  6.735921    & 76.98195     & 519.6282     & 9.622744     & 51.00054     & 25.01913     & 54.84964     & 34.64188     & 217.4740    \\\\\n",
       "\\end{tabular}\n"
      ],
      "text/markdown": [
       "\n",
       "| <!--/--> | Population | Treatment | Sex | ENSGACG00000000003 | ENSGACG00000000004 | ENSGACG00000000006 | ENSGACG00000000007 | ENSGACG00000000008 | ENSGACG00000000009 | ENSGACG00000000010 | ⋯ | ENSGACG00000000235 | ENSGACG00000000236 | ENSGACG00000000239 | ENSGACG00000000242 | ENSGACG00000000245 | ENSGACG00000000246 | ENSGACG00000000247 | ENSGACG00000000248 | ENSGACG00000000249 | ENSGACG00000000250 | \n",
       "|---|---|---|---|---|---|\n",
       "| BtCV1 | Boot         | Conventional | male         |  5.800022    |  7.733363    |  41.56683    | 124.70048    | 2.900011     | 356.7014     | 203.0008     | ⋯            | 417.6016     | 16.433397    | 16.43340     | 434.0350     | 1.933341     | 21.26675     | 15.46673     | 65.73359     | 42.53350     | 230.0676     | \n",
       "| BtCV2 | Boot         | Conventional | male         | 21.331358    |  9.599111    |  62.92751    |  97.05768    | 6.399407     | 348.7677     | 297.5724     | ⋯            | 358.3668     | 18.131654    | 42.66272     | 425.5606     | 9.599111     | 41.59615     | 26.66420     | 66.12721     | 54.39496     | 274.1080     | \n",
       "| BtCV3 | Boot         | Conventional | female       | 13.732143    |  5.281593    |  70.77335    |  82.39286    | 7.394231     | 361.2610     | 296.8256     | ⋯            | 381.3311     | 26.407968    | 22.18269     | 414.0769     | 4.225275     | 26.40797     | 24.29533     | 47.53434     | 49.64698     | 249.2912     | \n",
       "| BtCV4 | Boot         | Conventional | female       | 15.255118    |  5.867353    | 118.52053    |  69.23477    | 5.867353     | 448.2658     | 213.5716     | ⋯            | 382.5514     | 17.602059    | 38.72453     | 454.1331     | 5.867353     | 48.11229     | 39.89800     | 57.50006     | 51.63271     | 396.6331     | \n",
       "| BtCV5 | Boot         | Conventional | male         |  4.348010    |  5.435013    |  66.30716    |  82.61220    | 5.435013     | 470.6721     | 227.1835     | ⋯            | 417.4090     | 17.392042    | 42.39310     | 421.7570     | 4.348010     | 40.21910     | 13.04403     | 52.17612     | 34.78408     | 361.9719     | \n",
       "| BTMA1 | Boot         | MonoAssoc    | male         |  9.622744    | 19.245488    |  92.37834    | 160.69982    | 3.849098     | 257.8895     | 367.5888     | ⋯            | 218.4363     |  6.735921    | 76.98195     | 519.6282     | 9.622744     | 51.00054     | 25.01913     | 54.84964     | 34.64188     | 217.4740     | \n",
       "\n",
       "\n"
      ],
      "text/plain": [
       "      Population Treatment    Sex    ENSGACG00000000003 ENSGACG00000000004\n",
       "BtCV1 Boot       Conventional male    5.800022           7.733363         \n",
       "BtCV2 Boot       Conventional male   21.331358           9.599111         \n",
       "BtCV3 Boot       Conventional female 13.732143           5.281593         \n",
       "BtCV4 Boot       Conventional female 15.255118           5.867353         \n",
       "BtCV5 Boot       Conventional male    4.348010           5.435013         \n",
       "BTMA1 Boot       MonoAssoc    male    9.622744          19.245488         \n",
       "      ENSGACG00000000006 ENSGACG00000000007 ENSGACG00000000008\n",
       "BtCV1  41.56683          124.70048          2.900011          \n",
       "BtCV2  62.92751           97.05768          6.399407          \n",
       "BtCV3  70.77335           82.39286          7.394231          \n",
       "BtCV4 118.52053           69.23477          5.867353          \n",
       "BtCV5  66.30716           82.61220          5.435013          \n",
       "BTMA1  92.37834          160.69982          3.849098          \n",
       "      ENSGACG00000000009 ENSGACG00000000010 ⋯ ENSGACG00000000235\n",
       "BtCV1 356.7014           203.0008           ⋯ 417.6016          \n",
       "BtCV2 348.7677           297.5724           ⋯ 358.3668          \n",
       "BtCV3 361.2610           296.8256           ⋯ 381.3311          \n",
       "BtCV4 448.2658           213.5716           ⋯ 382.5514          \n",
       "BtCV5 470.6721           227.1835           ⋯ 417.4090          \n",
       "BTMA1 257.8895           367.5888           ⋯ 218.4363          \n",
       "      ENSGACG00000000236 ENSGACG00000000239 ENSGACG00000000242\n",
       "BtCV1 16.433397          16.43340           434.0350          \n",
       "BtCV2 18.131654          42.66272           425.5606          \n",
       "BtCV3 26.407968          22.18269           414.0769          \n",
       "BtCV4 17.602059          38.72453           454.1331          \n",
       "BtCV5 17.392042          42.39310           421.7570          \n",
       "BTMA1  6.735921          76.98195           519.6282          \n",
       "      ENSGACG00000000245 ENSGACG00000000246 ENSGACG00000000247\n",
       "BtCV1 1.933341           21.26675           15.46673          \n",
       "BtCV2 9.599111           41.59615           26.66420          \n",
       "BtCV3 4.225275           26.40797           24.29533          \n",
       "BtCV4 5.867353           48.11229           39.89800          \n",
       "BtCV5 4.348010           40.21910           13.04403          \n",
       "BTMA1 9.622744           51.00054           25.01913          \n",
       "      ENSGACG00000000248 ENSGACG00000000249 ENSGACG00000000250\n",
       "BtCV1 65.73359           42.53350           230.0676          \n",
       "BtCV2 66.12721           54.39496           274.1080          \n",
       "BtCV3 47.53434           49.64698           249.2912          \n",
       "BtCV4 57.50006           51.63271           396.6331          \n",
       "BtCV5 52.17612           34.78408           361.9719          \n",
       "BTMA1 54.84964           34.64188           217.4740          "
      ]
     },
     "metadata": {},
     "output_type": "display_data"
    },
    {
     "data": {
      "text/html": [
       "<ol class=list-inline>\n",
       "\t<li>20</li>\n",
       "\t<li>185</li>\n",
       "</ol>\n"
      ],
      "text/latex": [
       "\\begin{enumerate*}\n",
       "\\item 20\n",
       "\\item 185\n",
       "\\end{enumerate*}\n"
      ],
      "text/markdown": [
       "1. 20\n",
       "2. 185\n",
       "\n",
       "\n"
      ],
      "text/plain": [
       "[1]  20 185"
      ]
     },
     "metadata": {},
     "output_type": "display_data"
    }
   ],
   "source": [
    "head(data_txt)\n",
    "dim(data_txt)"
   ]
  },
  {
   "cell_type": "markdown",
   "metadata": {},
   "source": [
    "# Regarding data_txt"
   ]
  },
  {
   "cell_type": "markdown",
   "metadata": {},
   "source": [
    "*** What type of object is data_txt? ***"
   ]
  },
  {
   "cell_type": "code",
   "execution_count": 55,
   "metadata": {},
   "outputs": [
    {
     "data": {
      "text/html": [
       "'data.frame'"
      ],
      "text/latex": [
       "'data.frame'"
      ],
      "text/markdown": [
       "'data.frame'"
      ],
      "text/plain": [
       "[1] \"data.frame\""
      ]
     },
     "metadata": {},
     "output_type": "display_data"
    }
   ],
   "source": [
    "class(data_txt)"
   ]
  },
  {
   "cell_type": "markdown",
   "metadata": {},
   "source": [
    "*** Name all of the “explanatory variables.”  ***"
   ]
  },
  {
   "cell_type": "code",
   "execution_count": 56,
   "metadata": {},
   "outputs": [
    {
     "data": {
      "text/html": [
       "<ol class=list-inline>\n",
       "\t<li>'Population'</li>\n",
       "\t<li>'Treatment'</li>\n",
       "\t<li>'Sex'</li>\n",
       "</ol>\n"
      ],
      "text/latex": [
       "\\begin{enumerate*}\n",
       "\\item 'Population'\n",
       "\\item 'Treatment'\n",
       "\\item 'Sex'\n",
       "\\end{enumerate*}\n"
      ],
      "text/markdown": [
       "1. 'Population'\n",
       "2. 'Treatment'\n",
       "3. 'Sex'\n",
       "\n",
       "\n"
      ],
      "text/plain": [
       "[1] \"Population\" \"Treatment\"  \"Sex\"       "
      ]
     },
     "metadata": {},
     "output_type": "display_data"
    }
   ],
   "source": [
    "names(data_txt)[1:3]"
   ]
  },
  {
   "cell_type": "markdown",
   "metadata": {},
   "source": [
    "***  How many factor levels are there for each factor?  ***"
   ]
  },
  {
   "cell_type": "code",
   "execution_count": 57,
   "metadata": {},
   "outputs": [
    {
     "data": {
      "text/html": [
       "<ol class=list-inline>\n",
       "\t<li>Boot</li>\n",
       "\t<li>RabbitSlough</li>\n",
       "</ol>\n"
      ],
      "text/latex": [
       "\\begin{enumerate*}\n",
       "\\item Boot\n",
       "\\item RabbitSlough\n",
       "\\end{enumerate*}\n"
      ],
      "text/markdown": [
       "1. Boot\n",
       "2. RabbitSlough\n",
       "\n",
       "\n"
      ],
      "text/plain": [
       "[1] Boot         RabbitSlough\n",
       "Levels: Boot RabbitSlough"
      ]
     },
     "metadata": {},
     "output_type": "display_data"
    },
    {
     "data": {
      "text/html": [
       "<ol class=list-inline>\n",
       "\t<li>Conventional</li>\n",
       "\t<li>MonoAssoc</li>\n",
       "</ol>\n"
      ],
      "text/latex": [
       "\\begin{enumerate*}\n",
       "\\item Conventional\n",
       "\\item MonoAssoc\n",
       "\\end{enumerate*}\n"
      ],
      "text/markdown": [
       "1. Conventional\n",
       "2. MonoAssoc\n",
       "\n",
       "\n"
      ],
      "text/plain": [
       "[1] Conventional MonoAssoc   \n",
       "Levels: Conventional MonoAssoc"
      ]
     },
     "metadata": {},
     "output_type": "display_data"
    },
    {
     "data": {
      "text/html": [
       "<ol class=list-inline>\n",
       "\t<li>male</li>\n",
       "\t<li>female</li>\n",
       "</ol>\n"
      ],
      "text/latex": [
       "\\begin{enumerate*}\n",
       "\\item male\n",
       "\\item female\n",
       "\\end{enumerate*}\n"
      ],
      "text/markdown": [
       "1. male\n",
       "2. female\n",
       "\n",
       "\n"
      ],
      "text/plain": [
       "[1] male   female\n",
       "Levels: female male"
      ]
     },
     "metadata": {},
     "output_type": "display_data"
    }
   ],
   "source": [
    "unique(data_txt[,1])\n",
    "unique(data_txt[,2])\n",
    "unique(data_txt[,3])"
   ]
  },
  {
   "cell_type": "markdown",
   "metadata": {},
   "source": [
    "*** What type of vector are the factor columns? ***"
   ]
  },
  {
   "cell_type": "code",
   "execution_count": 58,
   "metadata": {},
   "outputs": [
    {
     "data": {
      "text/html": [
       "'factor'"
      ],
      "text/latex": [
       "'factor'"
      ],
      "text/markdown": [
       "'factor'"
      ],
      "text/plain": [
       "[1] \"factor\""
      ]
     },
     "metadata": {},
     "output_type": "display_data"
    },
    {
     "data": {
      "text/html": [
       "'factor'"
      ],
      "text/latex": [
       "'factor'"
      ],
      "text/markdown": [
       "'factor'"
      ],
      "text/plain": [
       "[1] \"factor\""
      ]
     },
     "metadata": {},
     "output_type": "display_data"
    },
    {
     "data": {
      "text/html": [
       "'factor'"
      ],
      "text/latex": [
       "'factor'"
      ],
      "text/markdown": [
       "'factor'"
      ],
      "text/plain": [
       "[1] \"factor\""
      ]
     },
     "metadata": {},
     "output_type": "display_data"
    }
   ],
   "source": [
    "class(data_txt[,1])\n",
    "class(data_txt[,2])\n",
    "class(data_txt[,3])"
   ]
  },
  {
   "cell_type": "markdown",
   "metadata": {},
   "source": [
    "*** How many “response variables” do we have in this dataset? What class are they?  ***"
   ]
  },
  {
   "cell_type": "code",
   "execution_count": 59,
   "metadata": {},
   "outputs": [
    {
     "data": {
      "text/html": [
       "182"
      ],
      "text/latex": [
       "182"
      ],
      "text/markdown": [
       "182"
      ],
      "text/plain": [
       "[1] 182"
      ]
     },
     "metadata": {},
     "output_type": "display_data"
    }
   ],
   "source": [
    "# length of a vector of all row names minus the explanatory variables (3)\n",
    "length(names(data_txt)) - 3"
   ]
  },
  {
   "cell_type": "code",
   "execution_count": 60,
   "metadata": {},
   "outputs": [
    {
     "name": "stdout",
     "output_type": "stream",
     "text": [
      "[1] \"numeric\"\n",
      "[1] \"numeric\"\n",
      "[1] \"numeric\"\n",
      "[1] \"numeric\"\n",
      "[1] \"numeric\"\n",
      "[1] \"numeric\"\n",
      "[1] \"numeric\"\n",
      "[1] \"numeric\"\n",
      "[1] \"numeric\"\n",
      "[1] \"numeric\"\n",
      "[1] \"numeric\"\n",
      "[1] \"numeric\"\n",
      "[1] \"numeric\"\n",
      "[1] \"numeric\"\n",
      "[1] \"numeric\"\n",
      "[1] \"numeric\"\n",
      "[1] \"numeric\"\n",
      "[1] \"numeric\"\n",
      "[1] \"numeric\"\n",
      "[1] \"numeric\"\n",
      "[1] \"numeric\"\n",
      "[1] \"numeric\"\n",
      "[1] \"numeric\"\n",
      "[1] \"numeric\"\n",
      "[1] \"numeric\"\n",
      "[1] \"numeric\"\n",
      "[1] \"numeric\"\n",
      "[1] \"numeric\"\n",
      "[1] \"numeric\"\n",
      "[1] \"numeric\"\n",
      "[1] \"numeric\"\n",
      "[1] \"numeric\"\n",
      "[1] \"numeric\"\n",
      "[1] \"numeric\"\n",
      "[1] \"numeric\"\n",
      "[1] \"numeric\"\n",
      "[1] \"numeric\"\n",
      "[1] \"numeric\"\n",
      "[1] \"numeric\"\n",
      "[1] \"numeric\"\n",
      "[1] \"numeric\"\n",
      "[1] \"numeric\"\n",
      "[1] \"numeric\"\n",
      "[1] \"numeric\"\n",
      "[1] \"numeric\"\n",
      "[1] \"numeric\"\n",
      "[1] \"numeric\"\n",
      "[1] \"numeric\"\n",
      "[1] \"numeric\"\n",
      "[1] \"numeric\"\n",
      "[1] \"numeric\"\n",
      "[1] \"numeric\"\n",
      "[1] \"numeric\"\n",
      "[1] \"numeric\"\n",
      "[1] \"numeric\"\n",
      "[1] \"numeric\"\n",
      "[1] \"numeric\"\n",
      "[1] \"numeric\"\n",
      "[1] \"numeric\"\n",
      "[1] \"numeric\"\n",
      "[1] \"numeric\"\n",
      "[1] \"numeric\"\n",
      "[1] \"numeric\"\n",
      "[1] \"numeric\"\n",
      "[1] \"numeric\"\n",
      "[1] \"numeric\"\n",
      "[1] \"numeric\"\n",
      "[1] \"numeric\"\n",
      "[1] \"numeric\"\n",
      "[1] \"numeric\"\n",
      "[1] \"numeric\"\n",
      "[1] \"numeric\"\n",
      "[1] \"numeric\"\n",
      "[1] \"numeric\"\n",
      "[1] \"numeric\"\n",
      "[1] \"numeric\"\n",
      "[1] \"numeric\"\n",
      "[1] \"numeric\"\n",
      "[1] \"numeric\"\n",
      "[1] \"numeric\"\n",
      "[1] \"numeric\"\n",
      "[1] \"numeric\"\n",
      "[1] \"numeric\"\n",
      "[1] \"numeric\"\n",
      "[1] \"numeric\"\n",
      "[1] \"numeric\"\n",
      "[1] \"numeric\"\n",
      "[1] \"numeric\"\n",
      "[1] \"numeric\"\n",
      "[1] \"numeric\"\n",
      "[1] \"numeric\"\n",
      "[1] \"numeric\"\n",
      "[1] \"numeric\"\n",
      "[1] \"numeric\"\n",
      "[1] \"numeric\"\n",
      "[1] \"numeric\"\n",
      "[1] \"numeric\"\n",
      "[1] \"numeric\"\n",
      "[1] \"numeric\"\n",
      "[1] \"numeric\"\n",
      "[1] \"numeric\"\n",
      "[1] \"numeric\"\n",
      "[1] \"numeric\"\n",
      "[1] \"numeric\"\n",
      "[1] \"numeric\"\n",
      "[1] \"numeric\"\n",
      "[1] \"numeric\"\n",
      "[1] \"numeric\"\n",
      "[1] \"numeric\"\n",
      "[1] \"numeric\"\n",
      "[1] \"numeric\"\n",
      "[1] \"numeric\"\n",
      "[1] \"numeric\"\n",
      "[1] \"numeric\"\n",
      "[1] \"numeric\"\n",
      "[1] \"numeric\"\n",
      "[1] \"numeric\"\n",
      "[1] \"numeric\"\n",
      "[1] \"numeric\"\n",
      "[1] \"numeric\"\n",
      "[1] \"numeric\"\n",
      "[1] \"numeric\"\n",
      "[1] \"numeric\"\n",
      "[1] \"numeric\"\n",
      "[1] \"numeric\"\n",
      "[1] \"numeric\"\n",
      "[1] \"numeric\"\n",
      "[1] \"numeric\"\n",
      "[1] \"numeric\"\n",
      "[1] \"numeric\"\n",
      "[1] \"numeric\"\n",
      "[1] \"numeric\"\n",
      "[1] \"numeric\"\n",
      "[1] \"numeric\"\n",
      "[1] \"numeric\"\n",
      "[1] \"numeric\"\n",
      "[1] \"numeric\"\n",
      "[1] \"numeric\"\n",
      "[1] \"numeric\"\n",
      "[1] \"numeric\"\n",
      "[1] \"numeric\"\n",
      "[1] \"numeric\"\n",
      "[1] \"numeric\"\n",
      "[1] \"numeric\"\n",
      "[1] \"numeric\"\n",
      "[1] \"numeric\"\n",
      "[1] \"numeric\"\n",
      "[1] \"numeric\"\n",
      "[1] \"numeric\"\n",
      "[1] \"numeric\"\n",
      "[1] \"numeric\"\n",
      "[1] \"numeric\"\n",
      "[1] \"numeric\"\n",
      "[1] \"numeric\"\n",
      "[1] \"numeric\"\n",
      "[1] \"numeric\"\n",
      "[1] \"numeric\"\n",
      "[1] \"numeric\"\n",
      "[1] \"numeric\"\n",
      "[1] \"numeric\"\n",
      "[1] \"numeric\"\n",
      "[1] \"numeric\"\n",
      "[1] \"numeric\"\n",
      "[1] \"numeric\"\n",
      "[1] \"numeric\"\n",
      "[1] \"numeric\"\n",
      "[1] \"numeric\"\n",
      "[1] \"numeric\"\n",
      "[1] \"numeric\"\n",
      "[1] \"numeric\"\n",
      "[1] \"numeric\"\n",
      "[1] \"numeric\"\n",
      "[1] \"numeric\"\n",
      "[1] \"numeric\"\n",
      "[1] \"numeric\"\n",
      "[1] \"numeric\"\n",
      "[1] \"numeric\"\n",
      "[1] \"numeric\"\n",
      "[1] \"numeric\"\n",
      "[1] \"numeric\"\n",
      "[1] \"numeric\"\n",
      "[1] \"numeric\"\n"
     ]
    }
   ],
   "source": [
    "for (i in seq(4, length(names(data_txt)))) {\n",
    "    print(class(data_txt[,i]))\n",
    "    }"
   ]
  },
  {
   "cell_type": "markdown",
   "metadata": {},
   "source": [
    "# Mean of data_txt"
   ]
  },
  {
   "cell_type": "markdown",
   "metadata": {},
   "source": [
    "*** Calculate the mean of all expression values for the first gene. ***"
   ]
  },
  {
   "cell_type": "code",
   "execution_count": 61,
   "metadata": {},
   "outputs": [
    {
     "data": {
      "text/html": [
       "20.036602655"
      ],
      "text/latex": [
       "20.036602655"
      ],
      "text/markdown": [
       "20.036602655"
      ],
      "text/plain": [
       "[1] 20.0366"
      ]
     },
     "metadata": {},
     "output_type": "display_data"
    }
   ],
   "source": [
    "mean(data_txt$ENSGACG00000000003)"
   ]
  },
  {
   "cell_type": "markdown",
   "metadata": {},
   "source": [
    "*** Calculate the mean of all expression values for the second gene. ***"
   ]
  },
  {
   "cell_type": "code",
   "execution_count": 62,
   "metadata": {},
   "outputs": [
    {
     "data": {
      "text/html": [
       "5.014468865"
      ],
      "text/latex": [
       "5.014468865"
      ],
      "text/markdown": [
       "5.014468865"
      ],
      "text/plain": [
       "[1] 5.014469"
      ]
     },
     "metadata": {},
     "output_type": "display_data"
    }
   ],
   "source": [
    "mean(data_txt$ENSGACG00000000004)"
   ]
  },
  {
   "cell_type": "markdown",
   "metadata": {},
   "source": [
    "*** Calculate means for the first and second gene in a single expression ***"
   ]
  },
  {
   "cell_type": "code",
   "execution_count": 63,
   "metadata": {},
   "outputs": [
    {
     "data": {
      "text/html": [
       "<dl>\n",
       "\t<dt>$ENSGACG00000000003</dt>\n",
       "\t\t<dd>20.036602655</dd>\n",
       "\t<dt>$ENSGACG00000000004</dt>\n",
       "\t\t<dd>5.014468865</dd>\n",
       "</dl>\n"
      ],
      "text/latex": [
       "\\begin{description}\n",
       "\\item[\\$ENSGACG00000000003] 20.036602655\n",
       "\\item[\\$ENSGACG00000000004] 5.014468865\n",
       "\\end{description}\n"
      ],
      "text/markdown": [
       "$ENSGACG00000000003\n",
       ":   20.036602655\n",
       "$ENSGACG00000000004\n",
       ":   5.014468865\n",
       "\n",
       "\n"
      ],
      "text/plain": [
       "$ENSGACG00000000003\n",
       "[1] 20.0366\n",
       "\n",
       "$ENSGACG00000000004\n",
       "[1] 5.014469\n"
      ]
     },
     "metadata": {},
     "output_type": "display_data"
    }
   ],
   "source": [
    "lapply(data_txt[4:5], mean)"
   ]
  },
  {
   "cell_type": "markdown",
   "metadata": {},
   "source": [
    "*** Using lapply() again, calculate the mean expression level for the first 100 genes, and store them as an object called expr_means_100. ***"
   ]
  },
  {
   "cell_type": "code",
   "execution_count": 64,
   "metadata": {
    "collapsed": true
   },
   "outputs": [],
   "source": [
    "expr_means_100 = lapply(data_txt[4:103], mean)"
   ]
  },
  {
   "cell_type": "markdown",
   "metadata": {},
   "source": [
    "*** What happens when you try to take the mean of expr_means_100? ***"
   ]
  },
  {
   "cell_type": "code",
   "execution_count": 65,
   "metadata": {},
   "outputs": [
    {
     "name": "stderr",
     "output_type": "stream",
     "text": [
      "Warning message in mean.default(expr_means_100):\n",
      "“argument is not numeric or logical: returning NA”"
     ]
    },
    {
     "data": {
      "text/html": [
       "&lt;NA&gt;"
      ],
      "text/latex": [
       "<NA>"
      ],
      "text/markdown": [
       "&lt;NA&gt;"
      ],
      "text/plain": [
       "[1] NA"
      ]
     },
     "metadata": {},
     "output_type": "display_data"
    }
   ],
   "source": [
    "mean(expr_means_100)"
   ]
  },
  {
   "cell_type": "markdown",
   "metadata": {},
   "source": [
    "*** Better check what type of object expr_means_100 is ***"
   ]
  },
  {
   "cell_type": "code",
   "execution_count": 66,
   "metadata": {},
   "outputs": [
    {
     "data": {
      "text/html": [
       "'list'"
      ],
      "text/latex": [
       "'list'"
      ],
      "text/markdown": [
       "'list'"
      ],
      "text/plain": [
       "[1] \"list\""
      ]
     },
     "metadata": {},
     "output_type": "display_data"
    }
   ],
   "source": [
    "class(expr_means_100)"
   ]
  },
  {
   "cell_type": "code",
   "execution_count": 67,
   "metadata": {
    "collapsed": true
   },
   "outputs": [],
   "source": [
    "# convert the named list to a numeric vector\n",
    "expr_means_100 = unlist(expr_means_100, use.names = FALSE) "
   ]
  },
  {
   "cell_type": "code",
   "execution_count": 68,
   "metadata": {},
   "outputs": [
    {
     "data": {
      "text/html": [
       "'numeric'"
      ],
      "text/latex": [
       "'numeric'"
      ],
      "text/markdown": [
       "'numeric'"
      ],
      "text/plain": [
       "[1] \"numeric\""
      ]
     },
     "metadata": {},
     "output_type": "display_data"
    }
   ],
   "source": [
    "class(expr_means_100)"
   ]
  },
  {
   "cell_type": "markdown",
   "metadata": {},
   "source": [
    "# Plotting mean expression levels"
   ]
  },
  {
   "cell_type": "markdown",
   "metadata": {},
   "source": [
    "***  Plot a frequency distribution for these 100 values ***"
   ]
  },
  {
   "cell_type": "code",
   "execution_count": 69,
   "metadata": {},
   "outputs": [
    {
     "data": {
      "image/png": "[encoded data removed]",
      "text/plain": [
       "Plot with title “Mean expression level for 100 genes”"
      ]
     },
     "metadata": {},
     "output_type": "display_data"
    }
   ],
   "source": [
    "# pdf('hist_mean_exp.pdf')\n",
    "options(repr.plot.width=4, repr.plot.height=4)\n",
    "hist(expr_means_100, xlab = \"mean expression level\", main = \"Mean expression level for 100 genes\")\n",
    "# dev.off()"
   ]
  },
  {
   "cell_type": "markdown",
   "metadata": {},
   "source": [
    "*** To make a more meaningful histogram, plot the log (base 10) of the means instead ***"
   ]
  },
  {
   "cell_type": "code",
   "execution_count": 70,
   "metadata": {},
   "outputs": [
    {
     "data": {
      "image/png": "[encoded data removed]",
      "text/plain": [
       "Plot with title “Mean expression level for 100 genes”"
      ]
     },
     "metadata": {},
     "output_type": "display_data"
    }
   ],
   "source": [
    "# pdf('hist_logmean_exp.pdf')\n",
    "options(repr.plot.width=4, repr.plot.height=4)\n",
    "hist(log(expr_means_100, 10), xlab = \"log(mean expression level)\", main = \"Mean expression level for 100 genes\")\n",
    "# dev.off()"
   ]
  },
  {
   "cell_type": "markdown",
   "metadata": {},
   "source": [
    "*** Subset your expr_means so that you only take means < 500 and plot the new\n",
    "histogram. How many genes are there? ***"
   ]
  },
  {
   "cell_type": "code",
   "execution_count": 71,
   "metadata": {
    "collapsed": true
   },
   "outputs": [],
   "source": [
    "expr_means_sub = subset(expr_means_100, expr_means_100 < 500)"
   ]
  },
  {
   "cell_type": "code",
   "execution_count": 72,
   "metadata": {},
   "outputs": [
    {
     "data": {
      "text/html": [
       "93"
      ],
      "text/latex": [
       "93"
      ],
      "text/markdown": [
       "93"
      ],
      "text/plain": [
       "[1] 93"
      ]
     },
     "metadata": {},
     "output_type": "display_data"
    }
   ],
   "source": [
    "length(expr_means_sub)"
   ]
  },
  {
   "cell_type": "code",
   "execution_count": 73,
   "metadata": {
    "scrolled": false
   },
   "outputs": [
    {
     "data": {
      "image/png": "[encoded data removed]",
      "text/plain": [
       "Plot with title “Means < 500 expression ”"
      ]
     },
     "metadata": {},
     "output_type": "display_data"
    }
   ],
   "source": [
    "# pdf('hist_subset_exp.pdf')\n",
    "options(repr.plot.width=4, repr.plot.height=4)\n",
    "hist(expr_means_sub, xlab = \"mean expression level\", main = \"Means < 500 expression \")\n",
    "# dev.off()"
   ]
  },
  {
   "cell_type": "markdown",
   "metadata": {},
   "source": [
    "*** Calculate the mean expression value (for the 2nd gene in the dataset), for Boot Lake individuals, and Rabbit Slough individuals separately. ***"
   ]
  },
  {
   "cell_type": "code",
   "execution_count": 74,
   "metadata": {},
   "outputs": [
    {
     "data": {
      "text/html": [
       "<dl class=dl-horizontal>\n",
       "\t<dt>Boot</dt>\n",
       "\t\t<dd>9.84801214</dd>\n",
       "\t<dt>RabbitSlough</dt>\n",
       "\t\t<dd>0.18092559</dd>\n",
       "</dl>\n"
      ],
      "text/plain": [
       "        Boot RabbitSlough \n",
       "   9.8480121    0.1809256 "
      ]
     },
     "metadata": {},
     "output_type": "display_data"
    }
   ],
   "source": [
    "tapply(data_txt[,5], data_txt$Population, mean)"
   ]
  },
  {
   "cell_type": "markdown",
   "metadata": {},
   "source": [
    "*** Also calculate the mean for all individuals, and also calculate standard deviations\n",
    "for all three sets. ***"
   ]
  },
  {
   "cell_type": "code",
   "execution_count": 92,
   "metadata": {},
   "outputs": [
    {
     "data": {
      "text/html": [
       "5.014468865"
      ],
      "text/latex": [
       "5.014468865"
      ],
      "text/markdown": [
       "5.014468865"
      ],
      "text/plain": [
       "[1] 5.014469"
      ]
     },
     "metadata": {},
     "output_type": "display_data"
    },
    {
     "data": {
      "text/html": [
       "6.28797725766485"
      ],
      "text/latex": [
       "6.28797725766485"
      ],
      "text/markdown": [
       "6.28797725766485"
      ],
      "text/plain": [
       "[1] 6.287977"
      ]
     },
     "metadata": {},
     "output_type": "display_data"
    },
    {
     "data": {
      "text/html": [
       "<dl class=dl-horizontal>\n",
       "\t<dt>Boot</dt>\n",
       "\t\t<dd>5.60418290498567</dd>\n",
       "\t<dt>RabbitSlough</dt>\n",
       "\t\t<dd>0.381502256661351</dd>\n",
       "</dl>\n"
      ],
      "text/plain": [
       "        Boot RabbitSlough \n",
       "   5.6041829    0.3815023 "
      ]
     },
     "metadata": {},
     "output_type": "display_data"
    }
   ],
   "source": [
    "# all individuals\n",
    "mean(data_txt[,5])\n",
    "sd(data_txt[,5])\n",
    "\n",
    "# seperate populations sd\n",
    "tapply(data_txt[,5], data_txt$Population, sd)"
   ]
  },
  {
   "cell_type": "markdown",
   "metadata": {},
   "source": [
    "# Plotting normal distributions"
   ]
  },
  {
   "cell_type": "markdown",
   "metadata": {},
   "source": [
    "*** Generate a sample of 1000 values from a normal distribution, using the mean and standard deviation calculated from the Rabbit Slough individuals. ***"
   ]
  },
  {
   "cell_type": "code",
   "execution_count": 105,
   "metadata": {
    "collapsed": true
   },
   "outputs": [],
   "source": [
    "rabbit_dist = rnorm(1000, 0.18092559, 0.381502256661351)"
   ]
  },
  {
   "cell_type": "markdown",
   "metadata": {},
   "source": [
    "*** Now do the same based on the mean and standard deviation from the Boot\n",
    "individuals. ***"
   ]
  },
  {
   "cell_type": "code",
   "execution_count": 106,
   "metadata": {
    "collapsed": true
   },
   "outputs": [],
   "source": [
    "boot_dist = rnorm(1000, 9.84801214, 5.60418290498567)"
   ]
  },
  {
   "cell_type": "markdown",
   "metadata": {},
   "source": [
    "*** Also do the same based on the mean and standard deviation from all individuals. ***"
   ]
  },
  {
   "cell_type": "code",
   "execution_count": 107,
   "metadata": {
    "collapsed": true
   },
   "outputs": [],
   "source": [
    "all_dist = rnorm(1000, 5.014468865, 6.28797725766485)"
   ]
  },
  {
   "cell_type": "markdown",
   "metadata": {},
   "source": [
    "***Generate a figure with three panels (three rows and one column) that includes histogram plots from your three samples. ***"
   ]
  },
  {
   "cell_type": "code",
   "execution_count": 117,
   "metadata": {},
   "outputs": [
    {
     "data": {
      "image/png": "[encoded data removed]",
      "text/plain": [
       "Plot with title “Total Distribution”"
      ]
     },
     "metadata": {},
     "output_type": "display_data"
    }
   ],
   "source": [
    "# pdf('Gene2_Pop_NormSamp.pdf')\n",
    "options(repr.plot.width=4, repr.plot.height=10)\n",
    "\n",
    "par(mfrow = c(3,1))\n",
    "\n",
    "hist(rabbit_dist, xlim = range(-30, 30), ylim = range(0, 350), xlab = \"mean expression levels\", main = \"Rabbit Slough Distribution\", col = \"magenta4\", breaks = 3)\n",
    "hist(boot_dist, xlim = range(-30, 30), ylim = range(0, 350), xlab = \"mean expression levels\", main = \"Boot Lake Distribution\", col = \"green4\")\n",
    "hist(all_dist, xlim = range(-30, 30), ylim = range(0, 350), xlab = \"mean expression levels\", main = \"Total Distribution\", col = \"blue3\")\n",
    "# dev.off()"
   ]
  },
  {
   "cell_type": "markdown",
   "metadata": {},
   "source": [
    "# Write df to file"
   ]
  },
  {
   "cell_type": "markdown",
   "metadata": {},
   "source": [
    "***  Define a new dataframe called three_genes, which contains the factor\n",
    "columns and the expression values for the first 3 genes. ***"
   ]
  },
  {
   "cell_type": "code",
   "execution_count": 80,
   "metadata": {
    "collapsed": true
   },
   "outputs": [],
   "source": [
    "three_genes = data_txt[1:6]"
   ]
  },
  {
   "cell_type": "markdown",
   "metadata": {},
   "source": [
    "*** Write this to a .csv file and save it to your computer as three_genes.csv. ***"
   ]
  },
  {
   "cell_type": "code",
   "execution_count": 81,
   "metadata": {
    "collapsed": true
   },
   "outputs": [],
   "source": [
    "write.table(three_genes, 'three_genes.csv', sep = \",\")"
   ]
  },
  {
   "cell_type": "markdown",
   "metadata": {},
   "source": [
    "# CoefVar function and plots"
   ]
  },
  {
   "cell_type": "markdown",
   "metadata": {},
   "source": [
    "*** Write a function (called coefvar) to calculate the coefficient of variation (CV) for a specified numeric vector. Write a for loop to generate a vector of CVs for all genes.***"
   ]
  },
  {
   "cell_type": "code",
   "execution_count": 82,
   "metadata": {
    "collapsed": true
   },
   "outputs": [],
   "source": [
    "CoefVar = function(mean, sd) {\n",
    "    (sd / mean)*100\n",
    "}\n",
    "\n",
    "cvs = numeric()\n",
    "\n",
    "for (i in seq(4, length(names(data_txt)))) {\n",
    "    cvs[i-3] = CoefVar(mean(data_txt[,i]), sd(data_txt[,i]))\n",
    "    }"
   ]
  },
  {
   "cell_type": "markdown",
   "metadata": {},
   "source": [
    "*** Plot a histogram, then a boxplot of the distribution of CVs ***"
   ]
  },
  {
   "cell_type": "code",
   "execution_count": 83,
   "metadata": {},
   "outputs": [
    {
     "data": {
      "image/png": "[encoded data removed]",
      "text/plain": [
       "Plot with title “CV Distribution, Total Population”"
      ]
     },
     "metadata": {},
     "output_type": "display_data"
    }
   ],
   "source": [
    "# pdf('CV_hist.pdf') \n",
    "options(repr.plot.width=4, repr.plot.height=4)\n",
    "hist(cvs, main = \"CV Distribution, Total Population\", xlab = \"coefficient of variation\")\n",
    "# dev.off()"
   ]
  },
  {
   "cell_type": "code",
   "execution_count": 84,
   "metadata": {},
   "outputs": [
    {
     "data": {
      "image/png": "[encoded data removed]",
      "text/plain": [
       "Plot with title “CV, Total Population”"
      ]
     },
     "metadata": {},
     "output_type": "display_data"
    }
   ],
   "source": [
    "# pdf('CV_boxplot.pdf')\n",
    "options(repr.plot.width=3, repr.plot.height=4)\n",
    "boxplot(cvs, main = \"CV, Total Population\", ylab = \"coefficient of variation\")\n",
    "# dev.off()"
   ]
  },
  {
   "cell_type": "markdown",
   "metadata": {},
   "source": [
    "*** Write two separate loops, as above, to generate CV vectors, one for Boot and one for Rabbit Slough. This time, however, use the subset() function to define the vectors being iterated over. ***"
   ]
  },
  {
   "cell_type": "code",
   "execution_count": 85,
   "metadata": {
    "collapsed": true
   },
   "outputs": [],
   "source": [
    "CoefVar = function(mean, sd) {\n",
    "    (sd / mean)*100\n",
    "}\n",
    "\n",
    "boot_cvs = numeric()\n",
    "rabbit_cvs = numeric()\n",
    "\n",
    "boot_data = subset(data_txt, data_txt$Population == \"Boot\")\n",
    "rabbit_data = subset(data_txt, data_txt$Population == \"RabbitSlough\")\n",
    "\n",
    "for (i in seq(4, length(names(data_txt)))) {\n",
    "    boot_cvs[i-3] = CoefVar(mean(boot_data[,i]), sd(boot_data[,i]))\n",
    "    }\n",
    "\n",
    "for (i in seq(4, length(names(data_txt)))) {\n",
    "    rabbit_cvs[i-3] = CoefVar(mean(rabbit_data[,i]), sd(rabbit_data[,i]))\n",
    "    }"
   ]
  },
  {
   "cell_type": "markdown",
   "metadata": {},
   "source": [
    "*** How do the two CV distributions compare (look at the two distributions using hist() and boxplot())? ***"
   ]
  },
  {
   "cell_type": "markdown",
   "metadata": {},
   "source": [
    "The coefficient variation distribution looks very similar between both population. The histograms look nearly the same. The boxplots show that the coefficient variation between the population have similar medians, maximums, first and third quartiles. The rabbit population does have some outliers that have higher coefficients of variation. "
   ]
  },
  {
   "cell_type": "code",
   "execution_count": 86,
   "metadata": {},
   "outputs": [
    {
     "data": {
      "image/png": "[encoded data removed]",
      "text/plain": [
       "Plot with title “CV, Rabbit Population”"
      ]
     },
     "metadata": {},
     "output_type": "display_data"
    }
   ],
   "source": [
    "options(repr.plot.width=8, repr.plot.height=8)\n",
    "\n",
    "par(mfrow = c(2,2))\n",
    "\n",
    "hist(boot_cvs, main = \"CV Distribution, Boot Population\", xlab = \"coefficient of variation\", col = \"red3\", xlim = range(0, 250, breaks = 20))\n",
    "hist(rabbit_cvs, main = \"CV Distribution, Rabbit Population\", xlab = \"coefficient of variation\", col = \"blue3\", xlim = range(0, 250), breaks = 20)\n",
    "boxplot(boot_cvs, main = \"CV, Boot Population\", ylab = \"coefficient of variation\", col = \"red3\", ylim = range(0, 300))\n",
    "boxplot(rabbit_cvs, main = \"CV, Rabbit Population\", ylab = \"coefficient of variation\", col = \"blue3\", ylim = range(0, 300))"
   ]
  },
  {
   "cell_type": "markdown",
   "metadata": {},
   "source": [
    "*** Think about how the coefficient of variation is calculated. Why might the CV be a better measure than the standard deviation when comparing two different variables? ***"
   ]
  },
  {
   "cell_type": "markdown",
   "metadata": {},
   "source": [
    "The coefficient of variation allows us to understand the relative magnitude of the standard deviation. The magnitude of the standard deviation depends on the data sampled. Using the coefficient of variation allows us to compare standard deviations between samples of data, in our situation different variables."
   ]
  },
  {
   "cell_type": "markdown",
   "metadata": {},
   "source": [
    "# Reproduction of Clay's Plots"
   ]
  },
  {
   "cell_type": "markdown",
   "metadata": {},
   "source": [
    "*** Reproduce the boxplots I showed in lecture to illustrate statistical vs. practical significance. The following functions will help: rnorm(), data.frame(), colnames(), c(), cbind(), rep(), and t.test() ***"
   ]
  },
  {
   "cell_type": "code",
   "execution_count": 87,
   "metadata": {
    "collapsed": true,
    "scrolled": true
   },
   "outputs": [],
   "source": [
    "diet_a_small = rnorm(10, mean = 20, sd = 1)\n",
    "diet_a_large = rnorm(1000, mean = 20.2, sd = 1)"
   ]
  },
  {
   "cell_type": "code",
   "execution_count": 88,
   "metadata": {
    "collapsed": true
   },
   "outputs": [],
   "source": [
    "diet_b_small = rnorm(10, mean = 20, sd = 1)\n",
    "diet_b_large = rnorm(1000, mean = 20.2, sd = 1)"
   ]
  },
  {
   "cell_type": "code",
   "execution_count": 89,
   "metadata": {},
   "outputs": [
    {
     "data": {
      "image/png": "[encoded data removed]",
      "text/plain": [
       "plot without title"
      ]
     },
     "metadata": {},
     "output_type": "display_data"
    }
   ],
   "source": [
    "# pdf(\"claysPlots.pdf\")\n",
    "options(repr.plot.width = 8, repr.plot.height = 5)\n",
    "\n",
    "par(mfrow = c(1, 2), mgp=c(3, 1.5, 0), font.axis = 2)\n",
    "\n",
    "boxplot(diet_a_small, diet_b_small, ylim = c(17, 25), names = c(\"Diet A\\n N = 10\", \"Diet B\\n N = 10\"), ylab = \"mass(g)\")\n",
    "boxplot(diet_a_large, diet_b_large, ylim = c(17, 25), names = c(\"Diet A\\n N = 1000\", \"Diet B\\n N = 1000\")) \n",
    "# dev.off()"
   ]
  },
  {
   "cell_type": "markdown",
   "metadata": {},
   "source": [
    "*** Perform a t-test on the datasets ***"
   ]
  },
  {
   "cell_type": "markdown",
   "metadata": {},
   "source": [
    "Diet A versus Diet B, N = 10: p = 0.5177  \n",
    "Diet A versus Diet B, N = 1000: p = 0.7912"
   ]
  },
  {
   "cell_type": "code",
   "execution_count": 90,
   "metadata": {},
   "outputs": [
    {
     "data": {
      "text/plain": [
       "\n",
       "\tWelch Two Sample t-test\n",
       "\n",
       "data:  diet_a_small and diet_b_small\n",
       "t = -1.365, df = 15.288, p-value = 0.192\n",
       "alternative hypothesis: true difference in means is not equal to 0\n",
       "95 percent confidence interval:\n",
       " -1.6043482  0.3504266\n",
       "sample estimates:\n",
       "mean of x mean of y \n",
       " 19.76985  20.39681 \n"
      ]
     },
     "metadata": {},
     "output_type": "display_data"
    }
   ],
   "source": [
    "t.test(diet_a_small, diet_b_small)"
   ]
  },
  {
   "cell_type": "code",
   "execution_count": 91,
   "metadata": {},
   "outputs": [
    {
     "data": {
      "text/plain": [
       "\n",
       "\tWelch Two Sample t-test\n",
       "\n",
       "data:  diet_a_large and diet_b_large\n",
       "t = -0.3442, df = 1997.9, p-value = 0.7307\n",
       "alternative hypothesis: true difference in means is not equal to 0\n",
       "95 percent confidence interval:\n",
       " -0.10203723  0.07156794\n",
       "sample estimates:\n",
       "mean of x mean of y \n",
       " 20.19694  20.21217 \n"
      ]
     },
     "metadata": {},
     "output_type": "display_data"
    }
   ],
   "source": [
    "t.test(diet_a_large, diet_b_large)"
   ]
  }
 ],
 "metadata": {
  "kernelspec": {
   "display_name": "R",
   "language": "R",
   "name": "ir"
  },
  "language_info": {
   "codemirror_mode": "r",
   "file_extension": ".r",
   "mimetype": "text/x-r-source",
   "name": "R",
   "pygments_lexer": "r",
   "version": "3.4.1"
  },
  "toc": {
   "colors": {
    "hover_highlight": "#DAA520",
    "navigate_num": "#000000",
    "navigate_text": "#333333",
    "running_highlight": "#FF0000",
    "selected_highlight": "#FFD700",
    "sidebar_border": "#EEEEEE",
    "wrapper_background": "#FFFFFF"
   },
   "moveMenuLeft": true,
   "nav_menu": {
    "height": "12px",
    "width": "252px"
   },
   "navigate_menu": true,
   "number_sections": true,
   "sideBar": true,
   "threshold": "3",
   "toc_cell": true,
   "toc_position": {
    "height": "564px",
    "left": "0px",
    "right": "1068.01px",
    "top": "106px",
    "width": "212px"
   },
   "toc_section_display": "block",
   "toc_window_display": true,
   "widenNotebook": false
  }
 },
 "nbformat": 4,
 "nbformat_minor": 2
}
