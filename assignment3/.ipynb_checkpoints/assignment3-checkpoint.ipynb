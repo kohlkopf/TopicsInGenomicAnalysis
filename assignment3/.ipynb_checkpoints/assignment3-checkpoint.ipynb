{
 "cells": [
  {
   "cell_type": "code",
   "execution_count": null,
   "metadata": {
    "collapsed": true
   },
   "outputs": [],
   "source": [
    "> ·         Tuesday, September 19 - 10:00am-12:00pm, or 2:00-4:00pm \n",
    "> \n",
    "> ·         Wednesday, September 20 - 10:00am-12:00pm \n",
    "> \n",
    "> ·         Thursday, September 21 - 1:00-3:00pm \n",
    "> \n",
    "> ·         Wednesday, September 27 - 10:00am-12:00pm, or 3:00-5:00pm "
   ]
  },
  {
   "cell_type": "code",
   "execution_count": null,
   "metadata": {
    "collapsed": true
   },
   "outputs": [],
   "source": []
  },
  {
   "cell_type": "markdown",
   "metadata": {},
   "source": [
    "*** Download a FASTA file containing the protein gene models for the spotted gar\n",
    "genome, transfer to HPC ***"
   ]
  },
  {
   "cell_type": "raw",
   "metadata": {},
   "source": [
    "$ ftp ftp://ftp.ensembl.org/pub/release-89/fasta/tetraodon_nigroviridis/pep/Tetraodon_nigroviridis.TETRAODON8.pep.all.fa.gz\n",
    "$ scp Tetraodon_nigroviridis.TETRAODON8.pep.all.fa.gz kkinning@hpc-ln1.uoregon.edu:ass3/"
   ]
  },
  {
   "cell_type": "markdown",
   "metadata": {},
   "source": [
    "*** Construct a BLAST database for each of the protein sets using makeblastdb ***"
   ]
  },
  {
   "cell_type": "raw",
   "metadata": {},
   "source": [
    "$ makeblastdb -in Lepisosteus_oculatus.LepOcu1.pep.all.fa -dbtype prot"
   ]
  },
  {
   "cell_type": "markdown",
   "metadata": {},
   "source": [
    "*** Execute BLASTP using gar proteins as the query and puffer as the subject\n",
    "database. Do it for all pairs. ***"
   ]
  },
  {
   "cell_type": "raw",
   "metadata": {},
   "source": [
    "cat Lepisosteus_oculatus.LepOcu1.pep.all.fa | blastp -db Gasterosteus_aculeatus.BROADS1.pep.all.fa -evalue 1e-5 -max_target_seqs 1 -num_threads 11 -outfmt '6 qseqid qlen sseqid slen pident nident length mismatch qstart qend sstart send evalue bitscore' -out garVSpuff.out.tsv"
   ]
  },
  {
   "cell_type": "raw",
   "metadata": {},
   "source": [
    "cat Lepisosteus_oculatus.LepOcu1.pep.all.fa | blastp -db Tetraodon_nigroviridis.TETRAODON8.pep.all.fa -evalue 1e-5 -max_target_seqs 1 -num_threads 11 -outfmt '6 qseqid qlen sseqid slen pident nident length mismatch qstart qend sstart send evalue bitscore' -out garVSstickle.out.tsv"
   ]
  },
  {
   "cell_type": "raw",
   "metadata": {},
   "source": [
    "cat Tetraodon_nigroviridis.TETRAODON8.pep.all.fa | blastp -db Lepisosteus_oculatus.LepOcu1.pep.all.fa -evalue 1e-5 -max_target_seqs 1 -num_threads 11 -outfmt '6 qseqid qlen sseqid slen pident nident length mismatch qstart qend sstart send evalue bitscore' -out stickleVSgar.out.tsv"
   ]
  },
  {
   "cell_type": "raw",
   "metadata": {},
   "source": [
    "cat Tetraodon_nigroviridis.TETRAODON8.pep.all.fa | blastp -db Gasterosteus_aculeatus.BROADS1.pep.all.fa -evalue 1e-5 -max_target_seqs 1 -num_threads 11 -outfmt '6 qseqid qlen sseqid slen pident nident length mismatch qstart qend sstart send evalue bitscore' -out stickleVSpuff.out.tsv"
   ]
  },
  {
   "cell_type": "raw",
   "metadata": {},
   "source": [
    "cat Gasterosteus_aculeatus.BROADS1.pep.all.fa | blastp -db Lepisosteus_oculatus.LepOcu1.pep.all.fa -evalue 1e-5 -max_target_seqs 1 -num_threads 11 -outfmt '6 qseqid qlen sseqid slen pident nident length mismatch qstart qend sstart send evalue bitscore' -out puffVSgar.out.tsv"
   ]
  },
  {
   "cell_type": "raw",
   "metadata": {},
   "source": [
    "cat Gasterosteus_aculeatus.BROADS1.pep.all.fa | blastp -db Tetraodon_nigroviridis.TETRAODON8.pep.all.fa -evalue 1e-5 -max_target_seqs 1 -num_threads 11 -outfmt '6 qseqid qlen sseqid slen pident nident length mismatch qstart qend sstart send evalue bitscore' -out puffVSstickle.out.tsv"
   ]
  }
 ],
 "metadata": {
  "kernelspec": {
   "display_name": "R",
   "language": "R",
   "name": "ir"
  },
  "language_info": {
   "codemirror_mode": "r",
   "file_extension": ".r",
   "mimetype": "text/x-r-source",
   "name": "R",
   "pygments_lexer": "r",
   "version": "3.4.1"
  },
  "toc": {
   "colors": {
    "hover_highlight": "#DAA520",
    "navigate_num": "#000000",
    "navigate_text": "#333333",
    "running_highlight": "#FF0000",
    "selected_highlight": "#FFD700",
    "sidebar_border": "#EEEEEE",
    "wrapper_background": "#FFFFFF"
   },
   "moveMenuLeft": true,
   "nav_menu": {
    "height": "12px",
    "width": "252px"
   },
   "navigate_menu": true,
   "number_sections": true,
   "sideBar": true,
   "threshold": "3",
   "toc_cell": false,
   "toc_section_display": "block",
   "toc_window_display": true,
   "widenNotebook": false
  }
 },
 "nbformat": 4,
 "nbformat_minor": 2
}
