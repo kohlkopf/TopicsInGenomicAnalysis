{
 "cells": [
  {
   "cell_type": "markdown",
   "metadata": {
    "collapsed": true
   },
   "source": [
    "## Getting files and blasting"
   ]
  },
  {
   "cell_type": "markdown",
   "metadata": {},
   "source": [
    "*** Download a FASTA file containing the protein gene models for the spotted gar\n",
    "genome, transfer to HPC ***"
   ]
  },
  {
   "cell_type": "markdown",
   "metadata": {},
   "source": [
    "```\n",
    "$ ftp ftp://ftp.ensembl.org/pub/release-89/fasta/tetraodon_nigroviridis/pep/Tetraodon_nigroviridis.TETRAODON8.pep.all.fa.gz\n",
    "$ scp Tetraodon_nigroviridis.TETRAODON8.pep.all.fa.gz kkinning@hpc-ln1.uoregon.edu:ass3/\n",
    "```"
   ]
  },
  {
   "cell_type": "markdown",
   "metadata": {},
   "source": [
    "*** Construct a BLAST database for each of the protein sets using makeblastdb ***"
   ]
  },
  {
   "cell_type": "markdown",
   "metadata": {},
   "source": [
    "```\n",
    "$ makeblastdb -in Lepisosteus_oculatus.LepOcu1.pep.all.fa -dbtype prot\n",
    "$ makeblastdb -in Gasterosteus_aculeatus.BROADS1.pep.all.fa -dbtype -prot\n",
    "$ makeblastdb -in Tetraodon_nigroviridis.TETRAODON8.pep.all.fa -dbtype -prot\n",
    "```"
   ]
  },
  {
   "cell_type": "markdown",
   "metadata": {},
   "source": [
    "*** Execute BLASTP using gar proteins as the query and puffer as the subject database. Do it for all pairs. These are the commands to put in to the .srun script ***"
   ]
  },
  {
   "cell_type": "markdown",
   "metadata": {},
   "source": [
    "```\n",
    "cat Lepisosteus_oculatus.LepOcu1.pep.all.fa | blastp -db Gasterosteus_aculeatus.BROADS1.pep.all.fa -evalue 1e-5 -max_target_seqs 1 -num_threads 11 -outfmt '6 qseqid qlen sseqid slen pident nident length mismatch qstart qend sstart send evalue bitscore' -out garVSpuff.out.tsv\n",
    "```"
   ]
  },
  {
   "cell_type": "markdown",
   "metadata": {},
   "source": [
    "```\n",
    "cat Lepisosteus_oculatus.LepOcu1.pep.all.fa | blastp -db Tetraodon_nigroviridis.TETRAODON8.pep.all.fa -evalue 1e-5 -max_target_seqs 1 -num_threads 11 -outfmt '6 qseqid qlen sseqid slen pident nident length mismatch qstart qend sstart send evalue bitscore' -out garVSstickle.out.tsv\n",
    "```"
   ]
  },
  {
   "cell_type": "markdown",
   "metadata": {},
   "source": [
    "```\n",
    "cat Tetraodon_nigroviridis.TETRAODON8.pep.all.fa | blastp -db Lepisosteus_oculatus.LepOcu1.pep.all.fa -evalue 1e-5 -max_target_seqs 1 -num_threads 11 -outfmt '6 qseqid qlen sseqid slen pident nident length mismatch qstart qend sstart send evalue bitscore' -out stickleVSgar.out.tsv\n",
    "```"
   ]
  },
  {
   "cell_type": "markdown",
   "metadata": {},
   "source": [
    "```\n",
    "cat Tetraodon_nigroviridis.TETRAODON8.pep.all.fa | blastp -db Gasterosteus_aculeatus.BROADS1.pep.all.fa -evalue 1e-5 -max_target_seqs 1 -num_threads 11 -outfmt '6 qseqid qlen sseqid slen pident nident length mismatch qstart qend sstart send evalue bitscore' -out stickleVSpuff.out.tsv\n",
    "```"
   ]
  },
  {
   "cell_type": "markdown",
   "metadata": {},
   "source": [
    "```\n",
    "cat Gasterosteus_aculeatus.BROADS1.pep.all.fa | blastp -db Lepisosteus_oculatus.LepOcu1.pep.all.fa -evalue 1e-5 -max_target_seqs 1 -num_threads 11 -outfmt '6 qseqid qlen sseqid slen pident nident length mismatch qstart qend sstart send evalue bitscore' -out puffVSgar.out.tsv\n",
    "```"
   ]
  },
  {
   "cell_type": "markdown",
   "metadata": {},
   "source": [
    "```\n",
    "cat Gasterosteus_aculeatus.BROADS1.pep.all.fa | blastp -db Tetraodon_nigroviridis.TETRAODON8.pep.all.fa -evalue 1e-5 -max_target_seqs 1 -num_threads 11 -outfmt '6 qseqid qlen sseqid slen pident nident length mismatch qstart qend sstart send evalue bitscore' -out puffVSstickle.out.tsv\n",
    "```"
   ]
  },
  {
   "cell_type": "markdown",
   "metadata": {},
   "source": [
    "** Re-naming, fixing mistake **"
   ]
  },
  {
   "cell_type": "markdown",
   "metadata": {},
   "source": [
    "```\n",
    "Lepisosteus_oculatus.LepOcu1.pep.all.fa --> Gasterosteus_aculeatus.BROADS1.pep.all.fa garVSpuff.out.tsv  BlastResults/garVSstickle.out.tsv\n",
    "```"
   ]
  },
  {
   "cell_type": "markdown",
   "metadata": {},
   "source": [
    "```\n",
    "Lepisosteus_oculatus.LepOcu1.pep.all.fa --> Tetraodon_nigroviridis.TETRAODON8.pep.all.fa garVSstickle.out.tsv BlastResults/garVSpuff.out.tsv\n",
    "```"
   ]
  },
  {
   "cell_type": "markdown",
   "metadata": {},
   "source": [
    "```\n",
    "Tetraodon_nigroviridis.TETRAODON8.pep.all.fa --> Lepisosteus_oculatus.LepOcu1.pep.all.fa stickleVSgar.out.tsv BlastResults/puffVSgar.out.tsv\n",
    "```"
   ]
  },
  {
   "cell_type": "markdown",
   "metadata": {},
   "source": [
    "```\n",
    "Tetraodon_nigroviridis.TETRAODON8.pep.all.fa --> Gasterosteus_aculeatus.BROADS1.pep.all.fa  stickleVSpuff.out.tsv BlastResults/puffVSstickle.out.tsv\n",
    "```"
   ]
  },
  {
   "cell_type": "markdown",
   "metadata": {},
   "source": [
    "```\n",
    "Gasterosteus_aculeatus.BROADS1.pep.all.fa --> Lepisosteus_oculatus.LepOcu1.pep.all.fa puffVSgar.out.tsv BlastResults/stickleVSgar.out.tsv\n",
    "```"
   ]
  },
  {
   "cell_type": "markdown",
   "metadata": {},
   "source": [
    "```\n",
    "Gasterosteus_aculeatus.BROADS1.pep.all.fa --> Tetraodon_nigroviridis.TETRAODON8.pep.all.fa  puffVSstickle.out.tsv BlastResults/stickleVSpuff.out.tsv\n",
    "```"
   ]
  },
  {
   "cell_type": "markdown",
   "metadata": {},
   "source": [
    "## Reciprocal best hit"
   ]
  },
  {
   "cell_type": "code",
   "execution_count": 37,
   "metadata": {
    "collapsed": true
   },
   "outputs": [],
   "source": [
    "garVSpuff = read.table(\"garVSpuff.out.tsv\", sep = \"\\t\")\n",
    "garVSstickle = read.table(\"garVSstickle.out.tsv\", sep = \"\\t\")\n",
    "puffVSgar = read.table(\"puffVSgar.out.tsv\", sep = \"\\t\")\n",
    "puffVSstickle = read.table(\"puffVSstickle.out.tsv\", sep = \"\\t\")\n",
    "stickleVSgar = read.table(\"stickleVSgar.out.tsv\", sep = \"\\t\")\n",
    "stickleVSpuff = read.table(\"stickleVSpuff.out.tsv\", sep = \"\\t\")"
   ]
  },
  {
   "cell_type": "code",
   "execution_count": 38,
   "metadata": {
    "collapsed": true
   },
   "outputs": [],
   "source": [
    "names = c(\"queryID\", \"queryLen\", \"subID\", \"subLen\", \"ident\", \"alignLen\", \"mismatches\", \"openings\", \"qStart\", \"qEnd\", \"sStart\", \"sEnd\", \"eVal\", \"bitScore\")"
   ]
  },
  {
   "cell_type": "code",
   "execution_count": 39,
   "metadata": {
    "collapsed": true
   },
   "outputs": [],
   "source": [
    "colnames(garVSpuff) = names\n",
    "colnames(garVSstickle) = names\n",
    "colnames(puffVSgar) = names\n",
    "colnames(puffVSstickle) = names\n",
    "colnames(stickleVSgar) = names\n",
    "colnames(stickleVSpuff) = names"
   ]
  },
  {
   "cell_type": "markdown",
   "metadata": {},
   "source": [
    "*** Create a new column in both data frames that contains an ID for each query-hit combination ***"
   ]
  },
  {
   "cell_type": "code",
   "execution_count": 40,
   "metadata": {},
   "outputs": [],
   "source": [
    "garVSpuff$combID = paste(garVSpuff$queryID, garVSpuff$subID, sep = \"_\")\n",
    "puffVSgar$combID = paste(puffVSgar$subID, puffVSgar$queryID, sep = \"_\")\n",
    "\n",
    "garVSstickle$combID = paste(garVSstickle$queryID, garVSstickle$subID, sep = \"_\")\n",
    "stickleVSgar$combID = paste(stickleVSgar$subID, stickleVSgar$queryID, sep = \"_\")\n",
    "\n",
    "puffVSstickle$combID = paste(puffVSstickle$queryID, puffVSstickle$subID, sep = \"_\")\n",
    "stickleVSpuff$combID = paste(stickleVSpuff$subID, stickleVSpuff$queryID, sep = \"_\")"
   ]
  },
  {
   "cell_type": "markdown",
   "metadata": {},
   "source": [
    "*** Get the intersecting rows of the two data frames, and therefore the RBBHs. How many rows (RBBH orthologs) are there for each species pair? Using head(), print the first 5 rows of each of your 3 RBBH data frames ***"
   ]
  },
  {
   "cell_type": "markdown",
   "metadata": {},
   "source": [
    "** Gar and pufferfish combination **"
   ]
  },
  {
   "cell_type": "code",
   "execution_count": 41,
   "metadata": {
    "scrolled": true
   },
   "outputs": [],
   "source": [
    "garVSpuff_RBH = merge(garVSpuff, puffVSgar, by = \"combID\")"
   ]
  },
  {
   "cell_type": "code",
   "execution_count": 51,
   "metadata": {},
   "outputs": [
    {
     "data": {
      "text/html": [
       "12291"
      ],
      "text/latex": [
       "12291"
      ],
      "text/markdown": [
       "12291"
      ],
      "text/plain": [
       "[1] 12291"
      ]
     },
     "metadata": {},
     "output_type": "display_data"
    }
   ],
   "source": [
    "nrow(garVSpuff_RBH)"
   ]
  },
  {
   "cell_type": "code",
   "execution_count": 52,
   "metadata": {},
   "outputs": [
    {
     "data": {
      "text/html": [
       "<table>\n",
       "<thead><tr><th scope=col>combID</th><th scope=col>queryID.x</th><th scope=col>queryLen.x</th><th scope=col>subID.x</th><th scope=col>subLen.x</th><th scope=col>ident.x</th><th scope=col>alignLen.x</th><th scope=col>mismatches.x</th><th scope=col>openings.x</th><th scope=col>qStart.x</th><th scope=col>⋯</th><th scope=col>ident.y</th><th scope=col>alignLen.y</th><th scope=col>mismatches.y</th><th scope=col>openings.y</th><th scope=col>qStart.y</th><th scope=col>qEnd.y</th><th scope=col>sStart.y</th><th scope=col>sEnd.y</th><th scope=col>eVal.y</th><th scope=col>bitScore.y</th></tr></thead>\n",
       "<tbody>\n",
       "\t<tr><td>ENSLOCP00000000001.1_ENSTNIP00000006678.1</td><td>ENSLOCP00000000001.1                     </td><td>368                                      </td><td>ENSTNIP00000006678.1                     </td><td>369                                      </td><td>76.92                                    </td><td>280                                      </td><td>364                                      </td><td> 82                                      </td><td>1                                        </td><td>⋯                                        </td><td>76.92                                    </td><td>280                                      </td><td>364                                      </td><td> 82                                      </td><td> 1                                       </td><td>362                                      </td><td> 1                                       </td><td>364                                      </td><td> 0e+00                                   </td><td>596                                      </td></tr>\n",
       "\t<tr><td>ENSLOCP00000000005.1_ENSTNIP00000008370.1</td><td>ENSLOCP00000000005.1                     </td><td>618                                      </td><td>ENSTNIP00000008370.1                     </td><td>852                                      </td><td>82.90                                    </td><td>320                                      </td><td>386                                      </td><td> 51                                      </td><td>1                                        </td><td>⋯                                        </td><td>94.44                                    </td><td>289                                      </td><td>306                                      </td><td> 17                                      </td><td> 1                                       </td><td>306                                      </td><td> 1                                       </td><td>306                                      </td><td> 0e+00                                   </td><td>576                                      </td></tr>\n",
       "\t<tr><td>ENSLOCP00000000006.1_ENSTNIP00000012440.1</td><td>ENSLOCP00000000006.1                     </td><td>313                                      </td><td>ENSTNIP00000012440.1                     </td><td>338                                      </td><td>73.80                                    </td><td>231                                      </td><td>313                                      </td><td> 82                                      </td><td>1                                        </td><td>⋯                                        </td><td>73.80                                    </td><td>231                                      </td><td>313                                      </td><td> 82                                      </td><td>26                                       </td><td>338                                      </td><td> 1                                       </td><td>313                                      </td><td>5e-180                                   </td><td>505                                      </td></tr>\n",
       "\t<tr><td>ENSLOCP00000000008.1_ENSTNIP00000010908.1</td><td>ENSLOCP00000000008.1                     </td><td>509                                      </td><td>ENSTNIP00000010908.1                     </td><td>511                                      </td><td>83.75                                    </td><td>433                                      </td><td>517                                      </td><td> 60                                      </td><td>1                                        </td><td>⋯                                        </td><td>83.75                                    </td><td>433                                      </td><td>517                                      </td><td> 60                                      </td><td> 1                                       </td><td>506                                      </td><td> 1                                       </td><td>504                                      </td><td> 0e+00                                   </td><td>822                                      </td></tr>\n",
       "\t<tr><td>ENSLOCP00000000010.1_ENSTNIP00000010906.1</td><td>ENSLOCP00000000010.1                     </td><td>149                                      </td><td>ENSTNIP00000010906.1                     </td><td>199                                      </td><td>51.01                                    </td><td> 76                                      </td><td>149                                      </td><td> 62                                      </td><td>3                                        </td><td>⋯                                        </td><td>51.01                                    </td><td> 76                                      </td><td>149                                      </td><td> 62                                      </td><td>59                                       </td><td>198                                      </td><td> 3                                       </td><td>149                                      </td><td> 6e-38                                   </td><td>131                                      </td></tr>\n",
       "\t<tr><td>ENSLOCP00000000011.1_ENSTNIP00000019160.1</td><td>ENSLOCP00000000011.1                     </td><td>390                                      </td><td>ENSTNIP00000019160.1                     </td><td>388                                      </td><td>65.64                                    </td><td>256                                      </td><td>390                                      </td><td>130                                      </td><td>1                                        </td><td>⋯                                        </td><td>67.74                                    </td><td>252                                      </td><td>372                                      </td><td>116                                      </td><td>21                                       </td><td>388                                      </td><td>19                                       </td><td>390                                      </td><td>2e-177                                   </td><td>503                                      </td></tr>\n",
       "</tbody>\n",
       "</table>\n"
      ],
      "text/latex": [
       "\\begin{tabular}{r|lllllllllllllllllllllllllllll}\n",
       " combID & queryID.x & queryLen.x & subID.x & subLen.x & ident.x & alignLen.x & mismatches.x & openings.x & qStart.x & ⋯ & ident.y & alignLen.y & mismatches.y & openings.y & qStart.y & qEnd.y & sStart.y & sEnd.y & eVal.y & bitScore.y\\\\\n",
       "\\hline\n",
       "\t ENSLOCP00000000001.1\\_ENSTNIP00000006678.1 & ENSLOCP00000000001.1                        & 368                                         & ENSTNIP00000006678.1                        & 369                                         & 76.92                                       & 280                                         & 364                                         &  82                                         & 1                                           & ⋯                                           & 76.92                                       & 280                                         & 364                                         &  82                                         &  1                                          & 362                                         &  1                                          & 364                                         &  0e+00                                      & 596                                        \\\\\n",
       "\t ENSLOCP00000000005.1\\_ENSTNIP00000008370.1 & ENSLOCP00000000005.1                        & 618                                         & ENSTNIP00000008370.1                        & 852                                         & 82.90                                       & 320                                         & 386                                         &  51                                         & 1                                           & ⋯                                           & 94.44                                       & 289                                         & 306                                         &  17                                         &  1                                          & 306                                         &  1                                          & 306                                         &  0e+00                                      & 576                                        \\\\\n",
       "\t ENSLOCP00000000006.1\\_ENSTNIP00000012440.1 & ENSLOCP00000000006.1                        & 313                                         & ENSTNIP00000012440.1                        & 338                                         & 73.80                                       & 231                                         & 313                                         &  82                                         & 1                                           & ⋯                                           & 73.80                                       & 231                                         & 313                                         &  82                                         & 26                                          & 338                                         &  1                                          & 313                                         & 5e-180                                      & 505                                        \\\\\n",
       "\t ENSLOCP00000000008.1\\_ENSTNIP00000010908.1 & ENSLOCP00000000008.1                        & 509                                         & ENSTNIP00000010908.1                        & 511                                         & 83.75                                       & 433                                         & 517                                         &  60                                         & 1                                           & ⋯                                           & 83.75                                       & 433                                         & 517                                         &  60                                         &  1                                          & 506                                         &  1                                          & 504                                         &  0e+00                                      & 822                                        \\\\\n",
       "\t ENSLOCP00000000010.1\\_ENSTNIP00000010906.1 & ENSLOCP00000000010.1                        & 149                                         & ENSTNIP00000010906.1                        & 199                                         & 51.01                                       &  76                                         & 149                                         &  62                                         & 3                                           & ⋯                                           & 51.01                                       &  76                                         & 149                                         &  62                                         & 59                                          & 198                                         &  3                                          & 149                                         &  6e-38                                      & 131                                        \\\\\n",
       "\t ENSLOCP00000000011.1\\_ENSTNIP00000019160.1 & ENSLOCP00000000011.1                        & 390                                         & ENSTNIP00000019160.1                        & 388                                         & 65.64                                       & 256                                         & 390                                         & 130                                         & 1                                           & ⋯                                           & 67.74                                       & 252                                         & 372                                         & 116                                         & 21                                          & 388                                         & 19                                          & 390                                         & 2e-177                                      & 503                                        \\\\\n",
       "\\end{tabular}\n"
      ],
      "text/markdown": [
       "\n",
       "combID | queryID.x | queryLen.x | subID.x | subLen.x | ident.x | alignLen.x | mismatches.x | openings.x | qStart.x | ⋯ | ident.y | alignLen.y | mismatches.y | openings.y | qStart.y | qEnd.y | sStart.y | sEnd.y | eVal.y | bitScore.y | \n",
       "|---|---|---|---|---|---|\n",
       "| ENSLOCP00000000001.1_ENSTNIP00000006678.1 | ENSLOCP00000000001.1                      | 368                                       | ENSTNIP00000006678.1                      | 369                                       | 76.92                                     | 280                                       | 364                                       |  82                                       | 1                                         | ⋯                                         | 76.92                                     | 280                                       | 364                                       |  82                                       |  1                                        | 362                                       |  1                                        | 364                                       |  0e+00                                    | 596                                       | \n",
       "| ENSLOCP00000000005.1_ENSTNIP00000008370.1 | ENSLOCP00000000005.1                      | 618                                       | ENSTNIP00000008370.1                      | 852                                       | 82.90                                     | 320                                       | 386                                       |  51                                       | 1                                         | ⋯                                         | 94.44                                     | 289                                       | 306                                       |  17                                       |  1                                        | 306                                       |  1                                        | 306                                       |  0e+00                                    | 576                                       | \n",
       "| ENSLOCP00000000006.1_ENSTNIP00000012440.1 | ENSLOCP00000000006.1                      | 313                                       | ENSTNIP00000012440.1                      | 338                                       | 73.80                                     | 231                                       | 313                                       |  82                                       | 1                                         | ⋯                                         | 73.80                                     | 231                                       | 313                                       |  82                                       | 26                                        | 338                                       |  1                                        | 313                                       | 5e-180                                    | 505                                       | \n",
       "| ENSLOCP00000000008.1_ENSTNIP00000010908.1 | ENSLOCP00000000008.1                      | 509                                       | ENSTNIP00000010908.1                      | 511                                       | 83.75                                     | 433                                       | 517                                       |  60                                       | 1                                         | ⋯                                         | 83.75                                     | 433                                       | 517                                       |  60                                       |  1                                        | 506                                       |  1                                        | 504                                       |  0e+00                                    | 822                                       | \n",
       "| ENSLOCP00000000010.1_ENSTNIP00000010906.1 | ENSLOCP00000000010.1                      | 149                                       | ENSTNIP00000010906.1                      | 199                                       | 51.01                                     |  76                                       | 149                                       |  62                                       | 3                                         | ⋯                                         | 51.01                                     |  76                                       | 149                                       |  62                                       | 59                                        | 198                                       |  3                                        | 149                                       |  6e-38                                    | 131                                       | \n",
       "| ENSLOCP00000000011.1_ENSTNIP00000019160.1 | ENSLOCP00000000011.1                      | 390                                       | ENSTNIP00000019160.1                      | 388                                       | 65.64                                     | 256                                       | 390                                       | 130                                       | 1                                         | ⋯                                         | 67.74                                     | 252                                       | 372                                       | 116                                       | 21                                        | 388                                       | 19                                        | 390                                       | 2e-177                                    | 503                                       | \n",
       "\n",
       "\n"
      ],
      "text/plain": [
       "  combID                                    queryID.x            queryLen.x\n",
       "1 ENSLOCP00000000001.1_ENSTNIP00000006678.1 ENSLOCP00000000001.1 368       \n",
       "2 ENSLOCP00000000005.1_ENSTNIP00000008370.1 ENSLOCP00000000005.1 618       \n",
       "3 ENSLOCP00000000006.1_ENSTNIP00000012440.1 ENSLOCP00000000006.1 313       \n",
       "4 ENSLOCP00000000008.1_ENSTNIP00000010908.1 ENSLOCP00000000008.1 509       \n",
       "5 ENSLOCP00000000010.1_ENSTNIP00000010906.1 ENSLOCP00000000010.1 149       \n",
       "6 ENSLOCP00000000011.1_ENSTNIP00000019160.1 ENSLOCP00000000011.1 390       \n",
       "  subID.x              subLen.x ident.x alignLen.x mismatches.x openings.x\n",
       "1 ENSTNIP00000006678.1 369      76.92   280        364           82       \n",
       "2 ENSTNIP00000008370.1 852      82.90   320        386           51       \n",
       "3 ENSTNIP00000012440.1 338      73.80   231        313           82       \n",
       "4 ENSTNIP00000010908.1 511      83.75   433        517           60       \n",
       "5 ENSTNIP00000010906.1 199      51.01    76        149           62       \n",
       "6 ENSTNIP00000019160.1 388      65.64   256        390          130       \n",
       "  qStart.x ⋯ ident.y alignLen.y mismatches.y openings.y qStart.y qEnd.y\n",
       "1 1        ⋯ 76.92   280        364           82         1       362   \n",
       "2 1        ⋯ 94.44   289        306           17         1       306   \n",
       "3 1        ⋯ 73.80   231        313           82        26       338   \n",
       "4 1        ⋯ 83.75   433        517           60         1       506   \n",
       "5 3        ⋯ 51.01    76        149           62        59       198   \n",
       "6 1        ⋯ 67.74   252        372          116        21       388   \n",
       "  sStart.y sEnd.y eVal.y bitScore.y\n",
       "1  1       364     0e+00 596       \n",
       "2  1       306     0e+00 576       \n",
       "3  1       313    5e-180 505       \n",
       "4  1       504     0e+00 822       \n",
       "5  3       149     6e-38 131       \n",
       "6 19       390    2e-177 503       "
      ]
     },
     "metadata": {},
     "output_type": "display_data"
    }
   ],
   "source": [
    "head(garVSpuff_RBH)"
   ]
  },
  {
   "cell_type": "markdown",
   "metadata": {},
   "source": [
    "** Gar and stickleback combination **"
   ]
  },
  {
   "cell_type": "code",
   "execution_count": 44,
   "metadata": {},
   "outputs": [],
   "source": [
    "garVSstickle_RBH = merge(garVSstickle, stickleVSgar, by = \"combID\")"
   ]
  },
  {
   "cell_type": "code",
   "execution_count": 53,
   "metadata": {},
   "outputs": [
    {
     "data": {
      "text/html": [
       "13094"
      ],
      "text/latex": [
       "13094"
      ],
      "text/markdown": [
       "13094"
      ],
      "text/plain": [
       "[1] 13094"
      ]
     },
     "metadata": {},
     "output_type": "display_data"
    }
   ],
   "source": [
    "nrow(garVSstickle_RBH)"
   ]
  },
  {
   "cell_type": "code",
   "execution_count": 46,
   "metadata": {},
   "outputs": [
    {
     "data": {
      "text/html": [
       "<table>\n",
       "<thead><tr><th scope=col>combID</th><th scope=col>queryID.x</th><th scope=col>queryLen.x</th><th scope=col>subID.x</th><th scope=col>subLen.x</th><th scope=col>ident.x</th><th scope=col>alignLen.x</th><th scope=col>mismatches.x</th><th scope=col>openings.x</th><th scope=col>qStart.x</th><th scope=col>⋯</th><th scope=col>ident.y</th><th scope=col>alignLen.y</th><th scope=col>mismatches.y</th><th scope=col>openings.y</th><th scope=col>qStart.y</th><th scope=col>qEnd.y</th><th scope=col>sStart.y</th><th scope=col>sEnd.y</th><th scope=col>eVal.y</th><th scope=col>bitScore.y</th></tr></thead>\n",
       "<tbody>\n",
       "\t<tr><td>ENSLOCP00000000001.1_ENSGACP00000013354.1</td><td>ENSLOCP00000000001.1                     </td><td>368                                      </td><td>ENSGACP00000013354.1                     </td><td>357                                      </td><td>78.06                                    </td><td>281                                      </td><td>360                                      </td><td>75                                       </td><td> 1                                       </td><td>⋯                                        </td><td>78.06                                    </td><td>281                                      </td><td>360                                      </td><td>75                                       </td><td> 1                                       </td><td>357                                      </td><td> 1                                       </td><td>359                                      </td><td> 0e+00                                   </td><td>589.0                                    </td></tr>\n",
       "\t<tr><td>ENSLOCP00000000004.1_ENSGACP00000007080.1</td><td>ENSLOCP00000000004.1                     </td><td>215                                      </td><td>ENSGACP00000007080.1                     </td><td>218                                      </td><td>76.64                                    </td><td>164                                      </td><td>214                                      </td><td>50                                       </td><td> 1                                       </td><td>⋯                                        </td><td>76.64                                    </td><td>164                                      </td><td>214                                      </td><td>50                                       </td><td> 5                                       </td><td>218                                      </td><td> 1                                       </td><td>214                                      </td><td>2e-122                                   </td><td>350.0                                    </td></tr>\n",
       "\t<tr><td>ENSLOCP00000000005.1_ENSGACP00000015206.1</td><td>ENSLOCP00000000005.1                     </td><td>618                                      </td><td>ENSGACP00000015206.1                     </td><td>859                                      </td><td>84.74                                    </td><td>261                                      </td><td>308                                      </td><td>40                                       </td><td> 1                                       </td><td>⋯                                        </td><td>84.74                                    </td><td>261                                      </td><td>308                                      </td><td>40                                       </td><td> 1                                       </td><td>303                                      </td><td> 1                                       </td><td>306                                      </td><td>6e-165                                   </td><td>497.0                                    </td></tr>\n",
       "\t<tr><td>ENSLOCP00000000006.1_ENSGACP00000022751.1</td><td>ENSLOCP00000000006.1                     </td><td>313                                      </td><td>ENSGACP00000022751.1                     </td><td>338                                      </td><td>78.21                                    </td><td>244                                      </td><td>312                                      </td><td>68                                       </td><td> 1                                       </td><td>⋯                                        </td><td>78.21                                    </td><td>244                                      </td><td>312                                      </td><td>68                                       </td><td>26                                       </td><td>337                                      </td><td> 1                                       </td><td>312                                      </td><td> 0e+00                                   </td><td>518.0                                    </td></tr>\n",
       "\t<tr><td>ENSLOCP00000000008.1_ENSGACP00000015192.1</td><td>ENSLOCP00000000008.1                     </td><td>509                                      </td><td>ENSGACP00000015192.1                     </td><td>508                                      </td><td>82.43                                    </td><td>427                                      </td><td>518                                      </td><td>66                                       </td><td> 1                                       </td><td>⋯                                        </td><td>82.21                                    </td><td>425                                      </td><td>517                                      </td><td>69                                       </td><td> 1                                       </td><td>507                                      </td><td> 1                                       </td><td>504                                      </td><td> 0e+00                                   </td><td>801.0                                    </td></tr>\n",
       "\t<tr><td>ENSLOCP00000000010.1_ENSGACP00000015211.1</td><td>ENSLOCP00000000010.1                     </td><td>149                                      </td><td>ENSGACP00000015211.1                     </td><td> 98                                      </td><td>41.51                                    </td><td> 44                                      </td><td>106                                      </td><td>51                                       </td><td>46                                       </td><td>⋯                                        </td><td>41.51                                    </td><td> 44                                      </td><td>106                                      </td><td>51                                       </td><td> 1                                       </td><td> 97                                      </td><td>46                                       </td><td>149                                      </td><td> 1e-14                                   </td><td> 66.6                                    </td></tr>\n",
       "</tbody>\n",
       "</table>\n"
      ],
      "text/latex": [
       "\\begin{tabular}{r|lllllllllllllllllllllllllllll}\n",
       " combID & queryID.x & queryLen.x & subID.x & subLen.x & ident.x & alignLen.x & mismatches.x & openings.x & qStart.x & ⋯ & ident.y & alignLen.y & mismatches.y & openings.y & qStart.y & qEnd.y & sStart.y & sEnd.y & eVal.y & bitScore.y\\\\\n",
       "\\hline\n",
       "\t ENSLOCP00000000001.1\\_ENSGACP00000013354.1 & ENSLOCP00000000001.1                        & 368                                         & ENSGACP00000013354.1                        & 357                                         & 78.06                                       & 281                                         & 360                                         & 75                                          &  1                                          & ⋯                                           & 78.06                                       & 281                                         & 360                                         & 75                                          &  1                                          & 357                                         &  1                                          & 359                                         &  0e+00                                      & 589.0                                      \\\\\n",
       "\t ENSLOCP00000000004.1\\_ENSGACP00000007080.1 & ENSLOCP00000000004.1                        & 215                                         & ENSGACP00000007080.1                        & 218                                         & 76.64                                       & 164                                         & 214                                         & 50                                          &  1                                          & ⋯                                           & 76.64                                       & 164                                         & 214                                         & 50                                          &  5                                          & 218                                         &  1                                          & 214                                         & 2e-122                                      & 350.0                                      \\\\\n",
       "\t ENSLOCP00000000005.1\\_ENSGACP00000015206.1 & ENSLOCP00000000005.1                        & 618                                         & ENSGACP00000015206.1                        & 859                                         & 84.74                                       & 261                                         & 308                                         & 40                                          &  1                                          & ⋯                                           & 84.74                                       & 261                                         & 308                                         & 40                                          &  1                                          & 303                                         &  1                                          & 306                                         & 6e-165                                      & 497.0                                      \\\\\n",
       "\t ENSLOCP00000000006.1\\_ENSGACP00000022751.1 & ENSLOCP00000000006.1                        & 313                                         & ENSGACP00000022751.1                        & 338                                         & 78.21                                       & 244                                         & 312                                         & 68                                          &  1                                          & ⋯                                           & 78.21                                       & 244                                         & 312                                         & 68                                          & 26                                          & 337                                         &  1                                          & 312                                         &  0e+00                                      & 518.0                                      \\\\\n",
       "\t ENSLOCP00000000008.1\\_ENSGACP00000015192.1 & ENSLOCP00000000008.1                        & 509                                         & ENSGACP00000015192.1                        & 508                                         & 82.43                                       & 427                                         & 518                                         & 66                                          &  1                                          & ⋯                                           & 82.21                                       & 425                                         & 517                                         & 69                                          &  1                                          & 507                                         &  1                                          & 504                                         &  0e+00                                      & 801.0                                      \\\\\n",
       "\t ENSLOCP00000000010.1\\_ENSGACP00000015211.1 & ENSLOCP00000000010.1                        & 149                                         & ENSGACP00000015211.1                        &  98                                         & 41.51                                       &  44                                         & 106                                         & 51                                          & 46                                          & ⋯                                           & 41.51                                       &  44                                         & 106                                         & 51                                          &  1                                          &  97                                         & 46                                          & 149                                         &  1e-14                                      &  66.6                                      \\\\\n",
       "\\end{tabular}\n"
      ],
      "text/markdown": [
       "\n",
       "combID | queryID.x | queryLen.x | subID.x | subLen.x | ident.x | alignLen.x | mismatches.x | openings.x | qStart.x | ⋯ | ident.y | alignLen.y | mismatches.y | openings.y | qStart.y | qEnd.y | sStart.y | sEnd.y | eVal.y | bitScore.y | \n",
       "|---|---|---|---|---|---|\n",
       "| ENSLOCP00000000001.1_ENSGACP00000013354.1 | ENSLOCP00000000001.1                      | 368                                       | ENSGACP00000013354.1                      | 357                                       | 78.06                                     | 281                                       | 360                                       | 75                                        |  1                                        | ⋯                                         | 78.06                                     | 281                                       | 360                                       | 75                                        |  1                                        | 357                                       |  1                                        | 359                                       |  0e+00                                    | 589.0                                     | \n",
       "| ENSLOCP00000000004.1_ENSGACP00000007080.1 | ENSLOCP00000000004.1                      | 215                                       | ENSGACP00000007080.1                      | 218                                       | 76.64                                     | 164                                       | 214                                       | 50                                        |  1                                        | ⋯                                         | 76.64                                     | 164                                       | 214                                       | 50                                        |  5                                        | 218                                       |  1                                        | 214                                       | 2e-122                                    | 350.0                                     | \n",
       "| ENSLOCP00000000005.1_ENSGACP00000015206.1 | ENSLOCP00000000005.1                      | 618                                       | ENSGACP00000015206.1                      | 859                                       | 84.74                                     | 261                                       | 308                                       | 40                                        |  1                                        | ⋯                                         | 84.74                                     | 261                                       | 308                                       | 40                                        |  1                                        | 303                                       |  1                                        | 306                                       | 6e-165                                    | 497.0                                     | \n",
       "| ENSLOCP00000000006.1_ENSGACP00000022751.1 | ENSLOCP00000000006.1                      | 313                                       | ENSGACP00000022751.1                      | 338                                       | 78.21                                     | 244                                       | 312                                       | 68                                        |  1                                        | ⋯                                         | 78.21                                     | 244                                       | 312                                       | 68                                        | 26                                        | 337                                       |  1                                        | 312                                       |  0e+00                                    | 518.0                                     | \n",
       "| ENSLOCP00000000008.1_ENSGACP00000015192.1 | ENSLOCP00000000008.1                      | 509                                       | ENSGACP00000015192.1                      | 508                                       | 82.43                                     | 427                                       | 518                                       | 66                                        |  1                                        | ⋯                                         | 82.21                                     | 425                                       | 517                                       | 69                                        |  1                                        | 507                                       |  1                                        | 504                                       |  0e+00                                    | 801.0                                     | \n",
       "| ENSLOCP00000000010.1_ENSGACP00000015211.1 | ENSLOCP00000000010.1                      | 149                                       | ENSGACP00000015211.1                      |  98                                       | 41.51                                     |  44                                       | 106                                       | 51                                        | 46                                        | ⋯                                         | 41.51                                     |  44                                       | 106                                       | 51                                        |  1                                        |  97                                       | 46                                        | 149                                       |  1e-14                                    |  66.6                                     | \n",
       "\n",
       "\n"
      ],
      "text/plain": [
       "  combID                                    queryID.x            queryLen.x\n",
       "1 ENSLOCP00000000001.1_ENSGACP00000013354.1 ENSLOCP00000000001.1 368       \n",
       "2 ENSLOCP00000000004.1_ENSGACP00000007080.1 ENSLOCP00000000004.1 215       \n",
       "3 ENSLOCP00000000005.1_ENSGACP00000015206.1 ENSLOCP00000000005.1 618       \n",
       "4 ENSLOCP00000000006.1_ENSGACP00000022751.1 ENSLOCP00000000006.1 313       \n",
       "5 ENSLOCP00000000008.1_ENSGACP00000015192.1 ENSLOCP00000000008.1 509       \n",
       "6 ENSLOCP00000000010.1_ENSGACP00000015211.1 ENSLOCP00000000010.1 149       \n",
       "  subID.x              subLen.x ident.x alignLen.x mismatches.x openings.x\n",
       "1 ENSGACP00000013354.1 357      78.06   281        360          75        \n",
       "2 ENSGACP00000007080.1 218      76.64   164        214          50        \n",
       "3 ENSGACP00000015206.1 859      84.74   261        308          40        \n",
       "4 ENSGACP00000022751.1 338      78.21   244        312          68        \n",
       "5 ENSGACP00000015192.1 508      82.43   427        518          66        \n",
       "6 ENSGACP00000015211.1  98      41.51    44        106          51        \n",
       "  qStart.x ⋯ ident.y alignLen.y mismatches.y openings.y qStart.y qEnd.y\n",
       "1  1       ⋯ 78.06   281        360          75          1       357   \n",
       "2  1       ⋯ 76.64   164        214          50          5       218   \n",
       "3  1       ⋯ 84.74   261        308          40          1       303   \n",
       "4  1       ⋯ 78.21   244        312          68         26       337   \n",
       "5  1       ⋯ 82.21   425        517          69          1       507   \n",
       "6 46       ⋯ 41.51    44        106          51          1        97   \n",
       "  sStart.y sEnd.y eVal.y bitScore.y\n",
       "1  1       359     0e+00 589.0     \n",
       "2  1       214    2e-122 350.0     \n",
       "3  1       306    6e-165 497.0     \n",
       "4  1       312     0e+00 518.0     \n",
       "5  1       504     0e+00 801.0     \n",
       "6 46       149     1e-14  66.6     "
      ]
     },
     "metadata": {},
     "output_type": "display_data"
    }
   ],
   "source": [
    "head(garVSstickle_RBH)"
   ]
  },
  {
   "cell_type": "markdown",
   "metadata": {},
   "source": [
    "** Pufferfish and sticklback combination **"
   ]
  },
  {
   "cell_type": "code",
   "execution_count": 47,
   "metadata": {},
   "outputs": [],
   "source": [
    "puffVSstickle_RBH = merge(puffVSstickle, stickleVSpuff, by = \"combID\")"
   ]
  },
  {
   "cell_type": "code",
   "execution_count": 54,
   "metadata": {},
   "outputs": [
    {
     "data": {
      "text/html": [
       "14623"
      ],
      "text/latex": [
       "14623"
      ],
      "text/markdown": [
       "14623"
      ],
      "text/plain": [
       "[1] 14623"
      ]
     },
     "metadata": {},
     "output_type": "display_data"
    }
   ],
   "source": [
    "nrow(puffVSstickle_RBH)"
   ]
  },
  {
   "cell_type": "code",
   "execution_count": 48,
   "metadata": {},
   "outputs": [
    {
     "data": {
      "text/html": [
       "<table>\n",
       "<thead><tr><th scope=col>combID</th><th scope=col>queryID.x</th><th scope=col>queryLen.x</th><th scope=col>subID.x</th><th scope=col>subLen.x</th><th scope=col>ident.x</th><th scope=col>alignLen.x</th><th scope=col>mismatches.x</th><th scope=col>openings.x</th><th scope=col>qStart.x</th><th scope=col>⋯</th><th scope=col>ident.y</th><th scope=col>alignLen.y</th><th scope=col>mismatches.y</th><th scope=col>openings.y</th><th scope=col>qStart.y</th><th scope=col>qEnd.y</th><th scope=col>sStart.y</th><th scope=col>sEnd.y</th><th scope=col>eVal.y</th><th scope=col>bitScore.y</th></tr></thead>\n",
       "<tbody>\n",
       "\t<tr><td>ENSTNIP00000000004.1_ENSGACP00000025030.1</td><td>ENSTNIP00000000004.1                     </td><td> 705                                     </td><td>ENSGACP00000025030.1                     </td><td> 708                                     </td><td>87.50                                    </td><td>623                                      </td><td> 712                                     </td><td> 78                                      </td><td>  1                                      </td><td>⋯                                        </td><td>87.50                                    </td><td>623                                      </td><td> 712                                     </td><td> 78                                      </td><td>1                                        </td><td> 708                                     </td><td>  1                                      </td><td> 705                                     </td><td> 0e+00                                   </td><td>1256                                     </td></tr>\n",
       "\t<tr><td>ENSTNIP00000000005.1_ENSGACP00000002858.1</td><td>ENSTNIP00000000005.1                     </td><td> 272                                     </td><td>ENSGACP00000002858.1                     </td><td> 282                                     </td><td>63.97                                    </td><td>174                                      </td><td> 272                                     </td><td> 97                                      </td><td>  1                                      </td><td>⋯                                        </td><td>63.97                                    </td><td>174                                      </td><td> 272                                     </td><td> 97                                      </td><td>1                                        </td><td> 271                                     </td><td>  1                                      </td><td> 272                                     </td><td>1e-131                                   </td><td> 378                                     </td></tr>\n",
       "\t<tr><td>ENSTNIP00000000007.1_ENSGACP00000022871.1</td><td>ENSTNIP00000000007.1                     </td><td>1057                                     </td><td>ENSGACP00000022871.1                     </td><td>1046                                     </td><td>85.08                                    </td><td>901                                      </td><td>1059                                     </td><td>143                                      </td><td>  1                                      </td><td>⋯                                        </td><td>85.08                                    </td><td>901                                      </td><td>1059                                     </td><td>143                                      </td><td>1                                        </td><td>1046                                     </td><td>  1                                      </td><td>1057                                     </td><td> 0e+00                                   </td><td>1831                                     </td></tr>\n",
       "\t<tr><td>ENSTNIP00000000008.1_ENSGACP00000014423.1</td><td>ENSTNIP00000000008.1                     </td><td> 108                                     </td><td>ENSGACP00000014423.1                     </td><td> 108                                     </td><td>84.11                                    </td><td> 90                                      </td><td> 107                                     </td><td> 17                                      </td><td>  1                                      </td><td>⋯                                        </td><td>84.11                                    </td><td> 90                                      </td><td> 107                                     </td><td> 17                                      </td><td>1                                        </td><td> 107                                     </td><td>  1                                      </td><td> 107                                     </td><td> 8e-65                                   </td><td> 194                                     </td></tr>\n",
       "\t<tr><td>ENSTNIP00000000009.1_ENSGACP00000025969.1</td><td>ENSTNIP00000000009.1                     </td><td> 843                                     </td><td>ENSGACP00000025969.1                     </td><td> 846                                     </td><td>87.98                                    </td><td>732                                      </td><td> 832                                     </td><td> 95                                      </td><td> 14                                      </td><td>⋯                                        </td><td>87.40                                    </td><td>735                                      </td><td> 841                                     </td><td>101                                      </td><td>5                                        </td><td> 843                                     </td><td>  5                                      </td><td> 842                                     </td><td> 0e+00                                   </td><td>1479                                     </td></tr>\n",
       "\t<tr><td>ENSTNIP00000000011.1_ENSGACP00000005818.1</td><td>ENSTNIP00000000011.1                     </td><td> 522                                     </td><td>ENSGACP00000005818.1                     </td><td> 346                                     </td><td>79.42                                    </td><td>220                                      </td><td> 277                                     </td><td> 57                                      </td><td>246                                      </td><td>⋯                                        </td><td>79.42                                    </td><td>220                                      </td><td> 277                                     </td><td> 57                                      </td><td>2                                        </td><td> 278                                     </td><td>246                                      </td><td> 522                                     </td><td>1e-152                                   </td><td> 444                                     </td></tr>\n",
       "</tbody>\n",
       "</table>\n"
      ],
      "text/latex": [
       "\\begin{tabular}{r|lllllllllllllllllllllllllllll}\n",
       " combID & queryID.x & queryLen.x & subID.x & subLen.x & ident.x & alignLen.x & mismatches.x & openings.x & qStart.x & ⋯ & ident.y & alignLen.y & mismatches.y & openings.y & qStart.y & qEnd.y & sStart.y & sEnd.y & eVal.y & bitScore.y\\\\\n",
       "\\hline\n",
       "\t ENSTNIP00000000004.1\\_ENSGACP00000025030.1 & ENSTNIP00000000004.1                        &  705                                        & ENSGACP00000025030.1                        &  708                                        & 87.50                                       & 623                                         &  712                                        &  78                                         &   1                                         & ⋯                                           & 87.50                                       & 623                                         &  712                                        &  78                                         & 1                                           &  708                                        &   1                                         &  705                                        &  0e+00                                      & 1256                                       \\\\\n",
       "\t ENSTNIP00000000005.1\\_ENSGACP00000002858.1 & ENSTNIP00000000005.1                        &  272                                        & ENSGACP00000002858.1                        &  282                                        & 63.97                                       & 174                                         &  272                                        &  97                                         &   1                                         & ⋯                                           & 63.97                                       & 174                                         &  272                                        &  97                                         & 1                                           &  271                                        &   1                                         &  272                                        & 1e-131                                      &  378                                       \\\\\n",
       "\t ENSTNIP00000000007.1\\_ENSGACP00000022871.1 & ENSTNIP00000000007.1                        & 1057                                        & ENSGACP00000022871.1                        & 1046                                        & 85.08                                       & 901                                         & 1059                                        & 143                                         &   1                                         & ⋯                                           & 85.08                                       & 901                                         & 1059                                        & 143                                         & 1                                           & 1046                                        &   1                                         & 1057                                        &  0e+00                                      & 1831                                       \\\\\n",
       "\t ENSTNIP00000000008.1\\_ENSGACP00000014423.1 & ENSTNIP00000000008.1                        &  108                                        & ENSGACP00000014423.1                        &  108                                        & 84.11                                       &  90                                         &  107                                        &  17                                         &   1                                         & ⋯                                           & 84.11                                       &  90                                         &  107                                        &  17                                         & 1                                           &  107                                        &   1                                         &  107                                        &  8e-65                                      &  194                                       \\\\\n",
       "\t ENSTNIP00000000009.1\\_ENSGACP00000025969.1 & ENSTNIP00000000009.1                        &  843                                        & ENSGACP00000025969.1                        &  846                                        & 87.98                                       & 732                                         &  832                                        &  95                                         &  14                                         & ⋯                                           & 87.40                                       & 735                                         &  841                                        & 101                                         & 5                                           &  843                                        &   5                                         &  842                                        &  0e+00                                      & 1479                                       \\\\\n",
       "\t ENSTNIP00000000011.1\\_ENSGACP00000005818.1 & ENSTNIP00000000011.1                        &  522                                        & ENSGACP00000005818.1                        &  346                                        & 79.42                                       & 220                                         &  277                                        &  57                                         & 246                                         & ⋯                                           & 79.42                                       & 220                                         &  277                                        &  57                                         & 2                                           &  278                                        & 246                                         &  522                                        & 1e-152                                      &  444                                       \\\\\n",
       "\\end{tabular}\n"
      ],
      "text/markdown": [
       "\n",
       "combID | queryID.x | queryLen.x | subID.x | subLen.x | ident.x | alignLen.x | mismatches.x | openings.x | qStart.x | ⋯ | ident.y | alignLen.y | mismatches.y | openings.y | qStart.y | qEnd.y | sStart.y | sEnd.y | eVal.y | bitScore.y | \n",
       "|---|---|---|---|---|---|\n",
       "| ENSTNIP00000000004.1_ENSGACP00000025030.1 | ENSTNIP00000000004.1                      |  705                                      | ENSGACP00000025030.1                      |  708                                      | 87.50                                     | 623                                       |  712                                      |  78                                       |   1                                       | ⋯                                         | 87.50                                     | 623                                       |  712                                      |  78                                       | 1                                         |  708                                      |   1                                       |  705                                      |  0e+00                                    | 1256                                      | \n",
       "| ENSTNIP00000000005.1_ENSGACP00000002858.1 | ENSTNIP00000000005.1                      |  272                                      | ENSGACP00000002858.1                      |  282                                      | 63.97                                     | 174                                       |  272                                      |  97                                       |   1                                       | ⋯                                         | 63.97                                     | 174                                       |  272                                      |  97                                       | 1                                         |  271                                      |   1                                       |  272                                      | 1e-131                                    |  378                                      | \n",
       "| ENSTNIP00000000007.1_ENSGACP00000022871.1 | ENSTNIP00000000007.1                      | 1057                                      | ENSGACP00000022871.1                      | 1046                                      | 85.08                                     | 901                                       | 1059                                      | 143                                       |   1                                       | ⋯                                         | 85.08                                     | 901                                       | 1059                                      | 143                                       | 1                                         | 1046                                      |   1                                       | 1057                                      |  0e+00                                    | 1831                                      | \n",
       "| ENSTNIP00000000008.1_ENSGACP00000014423.1 | ENSTNIP00000000008.1                      |  108                                      | ENSGACP00000014423.1                      |  108                                      | 84.11                                     |  90                                       |  107                                      |  17                                       |   1                                       | ⋯                                         | 84.11                                     |  90                                       |  107                                      |  17                                       | 1                                         |  107                                      |   1                                       |  107                                      |  8e-65                                    |  194                                      | \n",
       "| ENSTNIP00000000009.1_ENSGACP00000025969.1 | ENSTNIP00000000009.1                      |  843                                      | ENSGACP00000025969.1                      |  846                                      | 87.98                                     | 732                                       |  832                                      |  95                                       |  14                                       | ⋯                                         | 87.40                                     | 735                                       |  841                                      | 101                                       | 5                                         |  843                                      |   5                                       |  842                                      |  0e+00                                    | 1479                                      | \n",
       "| ENSTNIP00000000011.1_ENSGACP00000005818.1 | ENSTNIP00000000011.1                      |  522                                      | ENSGACP00000005818.1                      |  346                                      | 79.42                                     | 220                                       |  277                                      |  57                                       | 246                                       | ⋯                                         | 79.42                                     | 220                                       |  277                                      |  57                                       | 2                                         |  278                                      | 246                                       |  522                                      | 1e-152                                    |  444                                      | \n",
       "\n",
       "\n"
      ],
      "text/plain": [
       "  combID                                    queryID.x            queryLen.x\n",
       "1 ENSTNIP00000000004.1_ENSGACP00000025030.1 ENSTNIP00000000004.1  705      \n",
       "2 ENSTNIP00000000005.1_ENSGACP00000002858.1 ENSTNIP00000000005.1  272      \n",
       "3 ENSTNIP00000000007.1_ENSGACP00000022871.1 ENSTNIP00000000007.1 1057      \n",
       "4 ENSTNIP00000000008.1_ENSGACP00000014423.1 ENSTNIP00000000008.1  108      \n",
       "5 ENSTNIP00000000009.1_ENSGACP00000025969.1 ENSTNIP00000000009.1  843      \n",
       "6 ENSTNIP00000000011.1_ENSGACP00000005818.1 ENSTNIP00000000011.1  522      \n",
       "  subID.x              subLen.x ident.x alignLen.x mismatches.x openings.x\n",
       "1 ENSGACP00000025030.1  708     87.50   623         712          78       \n",
       "2 ENSGACP00000002858.1  282     63.97   174         272          97       \n",
       "3 ENSGACP00000022871.1 1046     85.08   901        1059         143       \n",
       "4 ENSGACP00000014423.1  108     84.11    90         107          17       \n",
       "5 ENSGACP00000025969.1  846     87.98   732         832          95       \n",
       "6 ENSGACP00000005818.1  346     79.42   220         277          57       \n",
       "  qStart.x ⋯ ident.y alignLen.y mismatches.y openings.y qStart.y qEnd.y\n",
       "1   1      ⋯ 87.50   623         712          78        1         708  \n",
       "2   1      ⋯ 63.97   174         272          97        1         271  \n",
       "3   1      ⋯ 85.08   901        1059         143        1        1046  \n",
       "4   1      ⋯ 84.11    90         107          17        1         107  \n",
       "5  14      ⋯ 87.40   735         841         101        5         843  \n",
       "6 246      ⋯ 79.42   220         277          57        2         278  \n",
       "  sStart.y sEnd.y eVal.y bitScore.y\n",
       "1   1       705    0e+00 1256      \n",
       "2   1       272   1e-131  378      \n",
       "3   1      1057    0e+00 1831      \n",
       "4   1       107    8e-65  194      \n",
       "5   5       842    0e+00 1479      \n",
       "6 246       522   1e-152  444      "
      ]
     },
     "metadata": {},
     "output_type": "display_data"
    }
   ],
   "source": [
    "head(puffVSstickle_RBH)"
   ]
  },
  {
   "cell_type": "markdown",
   "metadata": {},
   "source": [
    "*** Briefly explain why you think the number of gar-puffer, gar-stickleback, and puffer-stickleback\n",
    "orthologs are different. ***"
   ]
  },
  {
   "cell_type": "markdown",
   "metadata": {},
   "source": [
    "The organisms have different levels of relatedness, we would expect their ortholog similarity to differ."
   ]
  },
  {
   "cell_type": "markdown",
   "metadata": {},
   "source": [
    "## Informative Plots"
   ]
  },
  {
   "cell_type": "markdown",
   "metadata": {},
   "source": [
    "*** Plot the distributions of percent sequence identity for the stickleback-puffer and stickleback-gar RBBH orthologs side-by-side in a boxplot. Do the distributions appear to differ? Why might this be?  ***"
   ]
  },
  {
   "cell_type": "markdown",
   "metadata": {},
   "source": [
    "The distributions of percent sequence identity for the puffer-stickleback and gar-stickleback RBH orthologs do differ. The puffer-stickleback distributions demonstrates that the orthologs in these individuals share a higher percent identity to eachother than the gar-stickleback othrologs."
   ]
  },
  {
   "cell_type": "code",
   "execution_count": 68,
   "metadata": {},
   "outputs": [
    {
     "data": {
      "image/png": "[encoded data removed]",
      "text/plain": [
       "plot without title"
      ]
     },
     "metadata": {},
     "output_type": "display_data"
    }
   ],
   "source": [
    "# pdf(\"claysPlots.pdf\")\n",
    "options(repr.plot.width = 4, repr.plot.height = 5)\n",
    "\n",
    "par(mfrow = c(1, 1), mgp=c(3, 1.5, 0), font.axis = 2)\n",
    "\n",
    "boxplot(puffVSstickle_RBH$ident.x, garVSstickle_RBH$ident.x, names = c(\"Pufferfish VS\\n Stickleback\", \"Gar VS\\n Stickleback\"), ylab = \"Percent Identity\") \n",
    "# boxplot(garVSstickle_RBH$ident.x, garVSstickle_RBH$ident.y, names = c(\"Gar\", \"Stickleback\"), ylab = \"Percent Identity\")\n",
    "# dev.off()"
   ]
  },
  {
   "cell_type": "markdown",
   "metadata": {},
   "source": [
    "*** Extract relevant information from the headers in the gar and stickleback pep.all.fa.gz files, and combine it with your gar-stickleback RBBH information to produce an orthology dot plot for gar chromosome 11.  ***"
   ]
  },
  {
   "cell_type": "code",
   "execution_count": null,
   "metadata": {
    "collapsed": true
   },
   "outputs": [],
   "source": []
  }
 ],
 "metadata": {
  "kernelspec": {
   "display_name": "R",
   "language": "R",
   "name": "ir"
  },
  "language_info": {
   "codemirror_mode": "r",
   "file_extension": ".r",
   "mimetype": "text/x-r-source",
   "name": "R",
   "pygments_lexer": "r",
   "version": "3.4.1"
  },
  "toc": {
   "colors": {
    "hover_highlight": "#DAA520",
    "navigate_num": "#000000",
    "navigate_text": "#333333",
    "running_highlight": "#FF0000",
    "selected_highlight": "#FFD700",
    "sidebar_border": "#EEEEEE",
    "wrapper_background": "#FFFFFF"
   },
   "moveMenuLeft": true,
   "nav_menu": {
    "height": "12px",
    "width": "252px"
   },
   "navigate_menu": true,
   "number_sections": true,
   "sideBar": true,
   "threshold": "3",
   "toc_cell": false,
   "toc_section_display": "block",
   "toc_window_display": true,
   "widenNotebook": false
  }
 },
 "nbformat": 4,
 "nbformat_minor": 2
}
